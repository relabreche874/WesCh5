{
 "cells": [
  {
   "cell_type": "markdown",
   "metadata": {},
   "source": [
    "# Chapter 6"
   ]
  },
  {
   "cell_type": "markdown",
   "metadata": {},
   "source": [
    "# Data Loading, Storage, and File Formats"
   ]
  },
  {
   "cell_type": "markdown",
   "metadata": {},
   "source": [
    "## Reading and Writing Data in Text Format"
   ]
  },
  {
   "cell_type": "code",
   "execution_count": null,
   "metadata": {},
   "outputs": [],
   "source": [
    "In [10]: !cat examples/ex1.csv\n",
    "a,b,c,d,message\n",
    "1,2,3,4,hello\n",
    "5,6,7,8,world\n",
    "9,10,11,12,foo"
   ]
  },
  {
   "cell_type": "code",
   "execution_count": null,
   "metadata": {},
   "outputs": [],
   "source": [
    "In [11]: df = pd.read_csv(\"examples/ex1.csv\")\n",
    "\n",
    "In [12]: df\n",
    "Out[12]: \n",
    "   a   b   c   d message\n",
    "0  1   2   3   4   hello\n",
    "1  5   6   7   8   world\n",
    "2  9  10  11  12     foo"
   ]
  },
  {
   "cell_type": "code",
   "execution_count": null,
   "metadata": {},
   "outputs": [],
   "source": [
    "In [13]: !cat examples/ex2.csv\n",
    "1,2,3,4,hello\n",
    "5,6,7,8,world\n",
    "9,10,11,12,foo"
   ]
  },
  {
   "cell_type": "code",
   "execution_count": null,
   "metadata": {},
   "outputs": [],
   "source": [
    "In [14]: pd.read_csv(\"examples/ex2.csv\", header=None)\n",
    "Out[14]: \n",
    "   0   1   2   3      4\n",
    "0  1   2   3   4  hello\n",
    "1  5   6   7   8  world\n",
    "2  9  10  11  12    foo\n",
    "\n",
    "In [15]: pd.read_csv(\"examples/ex2.csv\", names=[\"a\", \"b\", \"c\", \"d\", \"message\"])\n",
    "Out[15]: \n",
    "   a   b   c   d message\n",
    "0  1   2   3   4   hello\n",
    "1  5   6   7   8   world\n",
    "2  9  10  11  12     foo"
   ]
  },
  {
   "cell_type": "code",
   "execution_count": null,
   "metadata": {},
   "outputs": [],
   "source": [
    "In [16]: names = [\"a\", \"b\", \"c\", \"d\", \"message\"]\n",
    "\n",
    "In [17]: pd.read_csv(\"examples/ex2.csv\", names=names, index_col=\"message\")\n",
    "Out[17]: \n",
    "         a   b   c   d\n",
    "message               \n",
    "hello    1   2   3   4\n",
    "world    5   6   7   8\n",
    "foo      9  10  11  12"
   ]
  },
  {
   "cell_type": "code",
   "execution_count": null,
   "metadata": {},
   "outputs": [],
   "source": [
    "In [18]: !cat examples/csv_mindex.csv\n",
    "key1,key2,value1,value2\n",
    "one,a,1,2\n",
    "one,b,3,4\n",
    "one,c,5,6\n",
    "one,d,7,8\n",
    "two,a,9,10\n",
    "two,b,11,12\n",
    "two,c,13,14\n",
    "two,d,15,16\n",
    "\n",
    "In [19]: parsed = pd.read_csv(\"examples/csv_mindex.csv\",\n",
    "   ....:                      index_col=[\"key1\", \"key2\"])\n",
    "\n",
    "In [20]: parsed\n",
    "Out[20]: \n",
    "           value1  value2\n",
    "key1 key2                \n",
    "one  a          1       2\n",
    "     b          3       4\n",
    "     c          5       6\n",
    "     d          7       8\n",
    "two  a          9      10\n",
    "     b         11      12\n",
    "     c         13      14\n",
    "     d         15      16"
   ]
  },
  {
   "cell_type": "code",
   "execution_count": null,
   "metadata": {},
   "outputs": [],
   "source": [
    "In [21]: !cat examples/ex3.txt\n",
    "A         B         C\n",
    "aaa -0.264438 -1.026059 -0.619500\n",
    "bbb  0.927272  0.302904 -0.032399\n",
    "ccc -0.264273 -0.386314 -0.217601\n",
    "ddd -0.871858 -0.348382  1.100491"
   ]
  },
  {
   "cell_type": "code",
   "execution_count": null,
   "metadata": {},
   "outputs": [],
   "source": [
    "In [22]: result = pd.read_csv(\"examples/ex3.txt\", sep=\"\\s+\")\n",
    "\n",
    "In [23]: result\n",
    "Out[23]: \n",
    "            A         B         C\n",
    "aaa -0.264438 -1.026059 -0.619500\n",
    "bbb  0.927272  0.302904 -0.032399\n",
    "ccc -0.264273 -0.386314 -0.217601\n",
    "ddd -0.871858 -0.348382  1.100491"
   ]
  },
  {
   "cell_type": "code",
   "execution_count": null,
   "metadata": {},
   "outputs": [],
   "source": [
    "In [24]: !cat examples/ex4.csv\n",
    "# hey!\n",
    "a,b,c,d,message\n",
    "# just wanted to make things more difficult for you\n",
    "# who reads CSV files with computers, anyway?\n",
    "1,2,3,4,hello\n",
    "5,6,7,8,world\n",
    "9,10,11,12,foo\n",
    "\n",
    "In [25]: pd.read_csv(\"examples/ex4.csv\", skiprows=[0, 2, 3])\n",
    "Out[25]: \n",
    "   a   b   c   d message\n",
    "0  1   2   3   4   hello\n",
    "1  5   6   7   8   world\n",
    "2  9  10  11  12     foo"
   ]
  },
  {
   "cell_type": "code",
   "execution_count": null,
   "metadata": {},
   "outputs": [],
   "source": [
    "In [26]: !cat examples/ex5.csv\n",
    "something,a,b,c,d,message\n",
    "one,1,2,3,4,NA\n",
    "two,5,6,,8,world\n",
    "three,9,10,11,12,foo\n",
    "In [27]: result = pd.read_csv(\"examples/ex5.csv\")\n",
    "\n",
    "In [28]: result\n",
    "Out[28]: \n",
    "  something  a   b     c   d message\n",
    "0       one  1   2   3.0   4     NaN\n",
    "1       two  5   6   NaN   8   world\n",
    "2     three  9  10  11.0  12     foo"
   ]
  },
  {
   "cell_type": "code",
   "execution_count": null,
   "metadata": {},
   "outputs": [],
   "source": [
    "In [29]: pd.isna(result)\n",
    "Out[29]: \n",
    "   something      a      b      c      d  message\n",
    "0      False  False  False  False  False     True\n",
    "1      False  False  False   True  False    False\n",
    "2      False  False  False  False  False    False"
   ]
  },
  {
   "cell_type": "code",
   "execution_count": null,
   "metadata": {},
   "outputs": [],
   "source": [
    "In [30]: result = pd.read_csv(\"examples/ex5.csv\", na_values=[\"NULL\"])\n",
    "\n",
    "In [31]: result\n",
    "Out[31]: \n",
    "  something  a   b     c   d message\n",
    "0       one  1   2   3.0   4     NaN\n",
    "1       two  5   6   NaN   8   world\n",
    "2     three  9  10  11.0  12     foo"
   ]
  },
  {
   "cell_type": "code",
   "execution_count": null,
   "metadata": {},
   "outputs": [],
   "source": [
    "In [32]: result2 = pd.read_csv(\"examples/ex5.csv\", keep_default_na=False)\n",
    "\n",
    "In [33]: result2\n",
    "Out[33]: \n",
    "  something  a   b   c   d message\n",
    "0       one  1   2   3   4      NA\n",
    "1       two  5   6       8   world\n",
    "2     three  9  10  11  12     foo\n",
    "\n",
    "In [34]: result2.isna()\n",
    "Out[34]: \n",
    "   something      a      b      c      d  message\n",
    "0      False  False  False  False  False    False\n",
    "1      False  False  False  False  False    False\n",
    "2      False  False  False  False  False    False\n",
    "\n",
    "In [35]: result3 = pd.read_csv(\"examples/ex5.csv\", keep_default_na=False,\n",
    "   ....:                       na_values=[\"NA\"])\n",
    "\n",
    "In [36]: result3\n",
    "Out[36]: \n",
    "  something  a   b   c   d message\n",
    "0       one  1   2   3   4     NaN\n",
    "1       two  5   6       8   world\n",
    "2     three  9  10  11  12     foo\n",
    "\n",
    "In [37]: result3.isna()\n",
    "Out[37]: \n",
    "   something      a      b      c      d  message\n",
    "0      False  False  False  False  False     True\n",
    "1      False  False  False  False  False    False\n",
    "2      False  False  False  False  False    False"
   ]
  },
  {
   "cell_type": "code",
   "execution_count": null,
   "metadata": {},
   "outputs": [],
   "source": [
    "In [38]: sentinels = {\"message\": [\"foo\", \"NA\"], \"something\": [\"two\"]}\n",
    "\n",
    "In [39]: pd.read_csv(\"examples/ex5.csv\", na_values=sentinels,\n",
    "   ....:             keep_default_na=False)\n",
    "Out[39]: \n",
    "  something  a   b   c   d message\n",
    "0       one  1   2   3   4     NaN\n",
    "1       NaN  5   6       8   world\n",
    "2     three  9  10  11  12     NaN"
   ]
  },
  {
   "cell_type": "markdown",
   "metadata": {},
   "source": [
    "## Reading Text Files in Pieces"
   ]
  },
  {
   "cell_type": "code",
   "execution_count": null,
   "metadata": {},
   "outputs": [],
   "source": [
    "In [40]: pd.options.display.max_rows = 10"
   ]
  },
  {
   "cell_type": "code",
   "execution_count": null,
   "metadata": {},
   "outputs": [],
   "source": [
    "In [41]: result = pd.read_csv(\"examples/ex6.csv\")\n",
    "\n",
    "In [42]: result\n",
    "Out[42]: \n",
    "           one       two     three      four key\n",
    "0     0.467976 -0.038649 -0.295344 -1.824726   L\n",
    "1    -0.358893  1.404453  0.704965 -0.200638   B\n",
    "2    -0.501840  0.659254 -0.421691 -0.057688   G\n",
    "3     0.204886  1.074134  1.388361 -0.982404   R\n",
    "4     0.354628 -0.133116  0.283763 -0.837063   Q\n",
    "...        ...       ...       ...       ...  ..\n",
    "9995  2.311896 -0.417070 -1.409599 -0.515821   L\n",
    "9996 -0.479893 -0.650419  0.745152 -0.646038   E\n",
    "9997  0.523331  0.787112  0.486066  1.093156   K\n",
    "9998 -0.362559  0.598894 -1.843201  0.887292   G\n",
    "9999 -0.096376 -1.012999 -0.657431 -0.573315   0\n",
    "[10000 rows x 5 columns]"
   ]
  },
  {
   "cell_type": "code",
   "execution_count": null,
   "metadata": {},
   "outputs": [],
   "source": [
    "In [43]: pd.read_csv(\"examples/ex6.csv\", nrows=5)\n",
    "Out[43]: \n",
    "        one       two     three      four key\n",
    "0  0.467976 -0.038649 -0.295344 -1.824726   L\n",
    "1 -0.358893  1.404453  0.704965 -0.200638   B\n",
    "2 -0.501840  0.659254 -0.421691 -0.057688   G\n",
    "3  0.204886  1.074134  1.388361 -0.982404   R\n",
    "4  0.354628 -0.133116  0.283763 -0.837063   Q"
   ]
  },
  {
   "cell_type": "code",
   "execution_count": null,
   "metadata": {},
   "outputs": [],
   "source": [
    "In [44]: chunker = pd.read_csv(\"examples/ex6.csv\", chunksize=1000)\n",
    "\n",
    "In [45]: type(chunker)\n",
    "Out[45]: pandas.io.parsers.readers.TextFileReader"
   ]
  },
  {
   "cell_type": "code",
   "execution_count": null,
   "metadata": {},
   "outputs": [],
   "source": [
    "chunker = pd.read_csv(\"examples/ex6.csv\", chunksize=1000)\n",
    "\n",
    "tot = pd.Series([], dtype='int64')\n",
    "for piece in chunker:\n",
    "    tot = tot.add(piece[\"key\"].value_counts(), fill_value=0)\n",
    "\n",
    "tot = tot.sort_values(ascending=False)"
   ]
  },
  {
   "cell_type": "code",
   "execution_count": null,
   "metadata": {},
   "outputs": [],
   "source": [
    "In [47]: tot[:10]\n",
    "Out[47]: \n",
    "E    368.0\n",
    "X    364.0\n",
    "L    346.0\n",
    "O    343.0\n",
    "Q    340.0\n",
    "M    338.0\n",
    "J    337.0\n",
    "F    335.0\n",
    "K    334.0\n",
    "H    330.0\n",
    "dtype: float64"
   ]
  },
  {
   "cell_type": "markdown",
   "metadata": {},
   "source": [
    "## Writing Data to Text Format"
   ]
  },
  {
   "cell_type": "code",
   "execution_count": null,
   "metadata": {},
   "outputs": [],
   "source": [
    "In [48]: data = pd.read_csv(\"examples/ex5.csv\")\n",
    "\n",
    "In [49]: data\n",
    "Out[49]: \n",
    "  something  a   b     c   d message\n",
    "0       one  1   2   3.0   4     NaN\n",
    "1       two  5   6   NaN   8   world\n",
    "2     three  9  10  11.0  12     foo"
   ]
  },
  {
   "cell_type": "code",
   "execution_count": null,
   "metadata": {},
   "outputs": [],
   "source": [
    "In [50]: data.to_csv(\"examples/out.csv\")\n",
    "\n",
    "In [51]: !cat examples/out.csv\n",
    ",something,a,b,c,d,message\n",
    "0,one,1,2,3.0,4,\n",
    "1,two,5,6,,8,world\n",
    "2,three,9,10,11.0,12,foo"
   ]
  },
  {
   "cell_type": "code",
   "execution_count": null,
   "metadata": {},
   "outputs": [],
   "source": [
    "In [52]: import sys\n",
    "\n",
    "In [53]: data.to_csv(sys.stdout, sep=\"|\")\n",
    "|something|a|b|c|d|message\n",
    "0|one|1|2|3.0|4|\n",
    "1|two|5|6||8|world\n",
    "2|three|9|10|11.0|12|foo"
   ]
  },
  {
   "cell_type": "code",
   "execution_count": null,
   "metadata": {},
   "outputs": [],
   "source": [
    "In [54]: data.to_csv(sys.stdout, na_rep=\"NULL\")\n",
    ",something,a,b,c,d,message\n",
    "0,one,1,2,3.0,4,NULL\n",
    "1,two,5,6,NULL,8,world\n",
    "2,three,9,10,11.0,12,foo"
   ]
  },
  {
   "cell_type": "code",
   "execution_count": null,
   "metadata": {},
   "outputs": [],
   "source": [
    "In [55]: data.to_csv(sys.stdout, index=False, header=False)\n",
    "one,1,2,3.0,4,\n",
    "two,5,6,,8,world\n",
    "three,9,10,11.0,12,foo"
   ]
  },
  {
   "cell_type": "code",
   "execution_count": null,
   "metadata": {},
   "outputs": [],
   "source": [
    "In [56]: data.to_csv(sys.stdout, index=False, columns=[\"a\", \"b\", \"c\"])\n",
    "a,b,c\n",
    "1,2,3.0\n",
    "5,6,\n",
    "9,10,11.0"
   ]
  },
  {
   "cell_type": "markdown",
   "metadata": {},
   "source": [
    "## Working with Other Delimited Formats"
   ]
  },
  {
   "cell_type": "code",
   "execution_count": null,
   "metadata": {},
   "outputs": [],
   "source": [
    "In [57]: !cat examples/ex7.csv\n",
    "\"a\",\"b\",\"c\"\n",
    "\"1\",\"2\",\"3\"\n",
    "\"1\",\"2\",\"3\""
   ]
  },
  {
   "cell_type": "code",
   "execution_count": null,
   "metadata": {},
   "outputs": [],
   "source": [
    "In [58]: import csv\n",
    "\n",
    "In [59]: f = open(\"examples/ex7.csv\")\n",
    "\n",
    "In [60]: reader = csv.reader(f)"
   ]
  },
  {
   "cell_type": "code",
   "execution_count": null,
   "metadata": {},
   "outputs": [],
   "source": [
    "In [61]: for line in reader:\n",
    "   ....:     print(line)\n",
    "['a', 'b', 'c']\n",
    "['1', '2', '3']\n",
    "['1', '2', '3']\n",
    "\n",
    "In [62]: f.close()"
   ]
  },
  {
   "cell_type": "code",
   "execution_count": null,
   "metadata": {},
   "outputs": [],
   "source": [
    "In [63]: with open(\"examples/ex7.csv\") as f:\n",
    "   ....:     lines = list(csv.reader(f))"
   ]
  },
  {
   "cell_type": "code",
   "execution_count": null,
   "metadata": {},
   "outputs": [],
   "source": [
    "In [64]: header, values = lines[0], lines[1:]"
   ]
  },
  {
   "cell_type": "code",
   "execution_count": null,
   "metadata": {},
   "outputs": [],
   "source": [
    "In [65]: data_dict = {h: v for h, v in zip(header, zip(*values))}\n",
    "\n",
    "In [66]: data_dict\n",
    "Out[66]: {'a': ('1', '1'), 'b': ('2', '2'), 'c': ('3', '3')}"
   ]
  },
  {
   "cell_type": "code",
   "execution_count": null,
   "metadata": {},
   "outputs": [],
   "source": [
    "class my_dialect(csv.Dialect):\n",
    "    lineterminator = \"\\n\"\n",
    "    delimiter = \";\"\n",
    "    quotechar = '\"'\n",
    "    quoting = csv.QUOTE_MINIMAL"
   ]
  },
  {
   "cell_type": "code",
   "execution_count": null,
   "metadata": {},
   "outputs": [],
   "source": [
    "reader = csv.reader(f, dialect=my_dialect)"
   ]
  },
  {
   "cell_type": "code",
   "execution_count": null,
   "metadata": {},
   "outputs": [],
   "source": [
    "reader = csv.reader(f, delimiter=\"|\")"
   ]
  },
  {
   "cell_type": "code",
   "execution_count": null,
   "metadata": {},
   "outputs": [],
   "source": [
    "with open(\"mydata.csv\", \"w\") as f:\n",
    "    writer = csv.writer(f, dialect=my_dialect)\n",
    "    writer.writerow((\"one\", \"two\", \"three\"))\n",
    "    writer.writerow((\"1\", \"2\", \"3\"))\n",
    "    writer.writerow((\"4\", \"5\", \"6\"))\n",
    "    writer.writerow((\"7\", \"8\", \"9\"))"
   ]
  },
  {
   "cell_type": "markdown",
   "metadata": {},
   "source": [
    "## JSON Data"
   ]
  },
  {
   "cell_type": "code",
   "execution_count": null,
   "metadata": {},
   "outputs": [],
   "source": [
    "obj = \"\"\"\n",
    "{\"name\": \"Wes\",\n",
    " \"cities_lived\": [\"Akron\", \"Nashville\", \"New York\", \"San Francisco\"],\n",
    " \"pet\": null,\n",
    " \"siblings\": [{\"name\": \"Scott\", \"age\": 34, \"hobbies\": [\"guitars\", \"soccer\"]},\n",
    "              {\"name\": \"Katie\", \"age\": 42, \"hobbies\": [\"diving\", \"art\"]}]\n",
    "}\n",
    "\"\"\""
   ]
  },
  {
   "cell_type": "code",
   "execution_count": null,
   "metadata": {},
   "outputs": [],
   "source": [
    "In [68]: import json\n",
    "\n",
    "In [69]: result = json.loads(obj)\n",
    "\n",
    "In [70]: result\n",
    "Out[70]: \n",
    "{'name': 'Wes',\n",
    " 'cities_lived': ['Akron', 'Nashville', 'New York', 'San Francisco'],\n",
    " 'pet': None,\n",
    " 'siblings': [{'name': 'Scott',\n",
    "   'age': 34,\n",
    "   'hobbies': ['guitars', 'soccer']},\n",
    "  {'name': 'Katie', 'age': 42, 'hobbies': ['diving', 'art']}]}"
   ]
  },
  {
   "cell_type": "code",
   "execution_count": null,
   "metadata": {},
   "outputs": [],
   "source": [
    "In [71]: asjson = json.dumps(result)\n",
    "\n",
    "In [72]: asjson\n",
    "Out[72]: '{\"name\": \"Wes\", \"cities_lived\": [\"Akron\", \"Nashville\", \"New York\", \"San\n",
    " Francisco\"], \"pet\": null, \"siblings\": [{\"name\": \"Scott\", \"age\": 34, \"hobbies\": [\n",
    "\"guitars\", \"soccer\"]}, {\"name\": \"Katie\", \"age\": 42, \"hobbies\": [\"diving\", \"art\"]}\n",
    "]}'"
   ]
  },
  {
   "cell_type": "code",
   "execution_count": null,
   "metadata": {},
   "outputs": [],
   "source": [
    "In [73]: siblings = pd.DataFrame(result[\"siblings\"], columns=[\"name\", \"age\"])\n",
    "\n",
    "In [74]: siblings\n",
    "Out[74]: \n",
    "    name  age\n",
    "0  Scott   34\n",
    "1  Katie   42"
   ]
  },
  {
   "cell_type": "code",
   "execution_count": null,
   "metadata": {},
   "outputs": [],
   "source": [
    "In [75]: !cat examples/example.json\n",
    "[{\"a\": 1, \"b\": 2, \"c\": 3},\n",
    " {\"a\": 4, \"b\": 5, \"c\": 6},\n",
    " {\"a\": 7, \"b\": 8, \"c\": 9}]"
   ]
  },
  {
   "cell_type": "code",
   "execution_count": null,
   "metadata": {},
   "outputs": [],
   "source": [
    "In [76]: data = pd.read_json(\"examples/example.json\")\n",
    "\n",
    "In [77]: data\n",
    "Out[77]: \n",
    "   a  b  c\n",
    "0  1  2  3\n",
    "1  4  5  6\n",
    "2  7  8  9"
   ]
  },
  {
   "cell_type": "code",
   "execution_count": null,
   "metadata": {},
   "outputs": [],
   "source": [
    "In [78]: data.to_json(sys.stdout)\n",
    "{\"a\":{\"0\":1,\"1\":4,\"2\":7},\"b\":{\"0\":2,\"1\":5,\"2\":8},\"c\":{\"0\":3,\"1\":6,\"2\":9}}\n",
    "In [79]: data.to_json(sys.stdout, orient=\"records\")\n",
    "[{\"a\":1,\"b\":2,\"c\":3},{\"a\":4,\"b\":5,\"c\":6},{\"a\":7,\"b\":8,\"c\":9}]"
   ]
  },
  {
   "cell_type": "markdown",
   "metadata": {},
   "source": [
    "## XML and HTML: Web Scraping"
   ]
  },
  {
   "cell_type": "code",
   "execution_count": null,
   "metadata": {},
   "outputs": [],
   "source": [
    "In [80]: tables = pd.read_html(\"examples/fdic_failed_bank_list.html\")\n",
    "\n",
    "In [81]: len(tables)\n",
    "Out[81]: 1\n",
    "\n",
    "In [82]: failures = tables[0]\n",
    "\n",
    "In [83]: failures.head()\n",
    "Out[83]: \n",
    "                      Bank Name             City  ST   CERT  \\\n",
    "0                   Allied Bank         Mulberry  AR     91   \n",
    "1  The Woodbury Banking Company         Woodbury  GA  11297   \n",
    "2        First CornerStone Bank  King of Prussia  PA  35312   \n",
    "3            Trust Company Bank          Memphis  TN   9956   \n",
    "4    North Milwaukee State Bank        Milwaukee  WI  20364   \n",
    "                 Acquiring Institution        Closing Date       Updated Date  \n",
    "0                         Today's Bank  September 23, 2016  November 17, 2016  \n",
    "1                          United Bank     August 19, 2016  November 17, 2016  \n",
    "2  First-Citizens Bank & Trust Company         May 6, 2016  September 6, 2016  \n",
    "3           The Bank of Fayette County      April 29, 2016  September 6, 2016  \n",
    "4  First-Citizens Bank & Trust Company      March 11, 2016      June 16, 2016  "
   ]
  },
  {
   "cell_type": "code",
   "execution_count": null,
   "metadata": {},
   "outputs": [],
   "source": [
    "In [84]: close_timestamps = pd.to_datetime(failures[\"Closing Date\"])\n",
    "\n",
    "In [85]: close_timestamps.dt.year.value_counts()\n",
    "Out[85]: \n",
    "2010    157\n",
    "2009    140\n",
    "2011     92\n",
    "2012     51\n",
    "2008     25\n",
    "       ... \n",
    "2004      4\n",
    "2001      4\n",
    "2007      3\n",
    "2003      3\n",
    "2000      2\n",
    "Name: Closing Date, Length: 15, dtype: int64"
   ]
  },
  {
   "cell_type": "markdown",
   "metadata": {},
   "source": [
    "## Parsing XML with lxml.objectify"
   ]
  },
  {
   "cell_type": "code",
   "execution_count": null,
   "metadata": {},
   "outputs": [],
   "source": [
    "<INDICATOR>\n",
    "  <INDICATOR_SEQ>373889</INDICATOR_SEQ>\n",
    "  <PARENT_SEQ></PARENT_SEQ>\n",
    "  <AGENCY_NAME>Metro-North Railroad</AGENCY_NAME>\n",
    "  <INDICATOR_NAME>Escalator Availability</INDICATOR_NAME>\n",
    "  <DESCRIPTION>Percent of the time that escalators are operational\n",
    "  systemwide. The availability rate is based on physical observations performed\n",
    "  the morning of regular business days only. This is a new indicator the agency\n",
    "  began reporting in 2009.</DESCRIPTION>\n",
    "  <PERIOD_YEAR>2011</PERIOD_YEAR>\n",
    "  <PERIOD_MONTH>12</PERIOD_MONTH>\n",
    "  <CATEGORY>Service Indicators</CATEGORY>\n",
    "  <FREQUENCY>M</FREQUENCY>\n",
    "  <DESIRED_CHANGE>U</DESIRED_CHANGE>\n",
    "  <INDICATOR_UNIT>%</INDICATOR_UNIT>\n",
    "  <DECIMAL_PLACES>1</DECIMAL_PLACES>\n",
    "  <YTD_TARGET>97.00</YTD_TARGET>\n",
    "  <YTD_ACTUAL></YTD_ACTUAL>\n",
    "  <MONTHLY_TARGET>97.00</MONTHLY_TARGET>\n",
    "  <MONTHLY_ACTUAL></MONTHLY_ACTUAL>\n",
    "</INDICATOR>"
   ]
  },
  {
   "cell_type": "code",
   "execution_count": null,
   "metadata": {},
   "outputs": [],
   "source": [
    "In [86]: from lxml import objectify\n",
    "\n",
    "In [87]: path = \"datasets/mta_perf/Performance_MNR.xml\"\n",
    "\n",
    "In [88]: with open(path) as f:\n",
    "   ....:     parsed = objectify.parse(f)\n",
    "\n",
    "In [89]: root = parsed.getroot()"
   ]
  },
  {
   "cell_type": "code",
   "execution_count": null,
   "metadata": {},
   "outputs": [],
   "source": [
    "data = []\n",
    "\n",
    "skip_fields = [\"PARENT_SEQ\", \"INDICATOR_SEQ\",\n",
    "               \"DESIRED_CHANGE\", \"DECIMAL_PLACES\"]\n",
    "\n",
    "for elt in root.INDICATOR:\n",
    "    el_data = {}\n",
    "    for child in elt.getchildren():\n",
    "        if child.tag in skip_fields:\n",
    "            continue\n",
    "        el_data[child.tag] = child.pyval\n",
    "    data.append(el_data)"
   ]
  },
  {
   "cell_type": "code",
   "execution_count": null,
   "metadata": {},
   "outputs": [],
   "source": [
    "In [91]: perf = pd.DataFrame(data)\n",
    "\n",
    "In [92]: perf.head()\n",
    "Out[92]: \n",
    "            AGENCY_NAME                        INDICATOR_NAME  \\\n",
    "0  Metro-North Railroad  On-Time Performance (West of Hudson)   \n",
    "1  Metro-North Railroad  On-Time Performance (West of Hudson)   \n",
    "2  Metro-North Railroad  On-Time Performance (West of Hudson)   \n",
    "3  Metro-North Railroad  On-Time Performance (West of Hudson)   \n",
    "4  Metro-North Railroad  On-Time Performance (West of Hudson)   \n",
    "                                                                  DESCRIPTION  \\\n",
    "0  Percent of commuter trains that arrive at their destinations within 5 m...   \n",
    "1  Percent of commuter trains that arrive at their destinations within 5 m...   \n",
    "2  Percent of commuter trains that arrive at their destinations within 5 m...   \n",
    "3  Percent of commuter trains that arrive at their destinations within 5 m...   \n",
    "4  Percent of commuter trains that arrive at their destinations within 5 m...   \n",
    "   PERIOD_YEAR  PERIOD_MONTH            CATEGORY FREQUENCY INDICATOR_UNIT  \\\n",
    "0         2008             1  Service Indicators         M              %   \n",
    "1         2008             2  Service Indicators         M              %   \n",
    "2         2008             3  Service Indicators         M              %   \n",
    "3         2008             4  Service Indicators         M              %   \n",
    "4         2008             5  Service Indicators         M              %   \n",
    "  YTD_TARGET YTD_ACTUAL MONTHLY_TARGET MONTHLY_ACTUAL  \n",
    "0       95.0       96.9           95.0           96.9  \n",
    "1       95.0       96.0           95.0           95.0  \n",
    "2       95.0       96.3           95.0           96.9  \n",
    "3       95.0       96.8           95.0           98.3  \n",
    "4       95.0       96.6           95.0           95.8  "
   ]
  },
  {
   "cell_type": "code",
   "execution_count": null,
   "metadata": {},
   "outputs": [],
   "source": [
    "In [93]: perf2 = pd.read_xml(path)\n",
    "\n",
    "In [94]: perf2.head()\n",
    "Out[94]: \n",
    "   INDICATOR_SEQ  PARENT_SEQ           AGENCY_NAME  \\\n",
    "0          28445         NaN  Metro-North Railroad   \n",
    "1          28445         NaN  Metro-North Railroad   \n",
    "2          28445         NaN  Metro-North Railroad   \n",
    "3          28445         NaN  Metro-North Railroad   \n",
    "4          28445         NaN  Metro-North Railroad   \n",
    "                         INDICATOR_NAME  \\\n",
    "0  On-Time Performance (West of Hudson)   \n",
    "1  On-Time Performance (West of Hudson)   \n",
    "2  On-Time Performance (West of Hudson)   \n",
    "3  On-Time Performance (West of Hudson)   \n",
    "4  On-Time Performance (West of Hudson)   \n",
    "                                                                  DESCRIPTION  \\\n",
    "0  Percent of commuter trains that arrive at their destinations within 5 m...   \n",
    "1  Percent of commuter trains that arrive at their destinations within 5 m...   \n",
    "2  Percent of commuter trains that arrive at their destinations within 5 m...   \n",
    "3  Percent of commuter trains that arrive at their destinations within 5 m...   \n",
    "4  Percent of commuter trains that arrive at their destinations within 5 m...   \n",
    "   PERIOD_YEAR  PERIOD_MONTH            CATEGORY FREQUENCY DESIRED_CHANGE  \\\n",
    "0         2008             1  Service Indicators         M              U   \n",
    "1         2008             2  Service Indicators         M              U   \n",
    "2         2008             3  Service Indicators         M              U   \n",
    "3         2008             4  Service Indicators         M              U   \n",
    "4         2008             5  Service Indicators         M              U   \n",
    "  INDICATOR_UNIT  DECIMAL_PLACES YTD_TARGET YTD_ACTUAL MONTHLY_TARGET  \\\n",
    "0              %               1      95.00      96.90          95.00   \n",
    "1              %               1      95.00      96.00          95.00   \n",
    "2              %               1      95.00      96.30          95.00   \n",
    "3              %               1      95.00      96.80          95.00   \n",
    "4              %               1      95.00      96.60          95.00   \n",
    "  MONTHLY_ACTUAL  \n",
    "0          96.90  \n",
    "1          95.00  \n",
    "2          96.90  \n",
    "3          98.30  \n",
    "4          95.80  "
   ]
  },
  {
   "cell_type": "markdown",
   "metadata": {},
   "source": [
    "# Binary Data Formats"
   ]
  },
  {
   "cell_type": "code",
   "execution_count": null,
   "metadata": {},
   "outputs": [],
   "source": [
    "In [95]: frame = pd.read_csv(\"examples/ex1.csv\")\n",
    "\n",
    "In [96]: frame\n",
    "Out[96]: \n",
    "   a   b   c   d message\n",
    "0  1   2   3   4   hello\n",
    "1  5   6   7   8   world\n",
    "2  9  10  11  12     foo\n",
    "\n",
    "In [97]: frame.to_pickle(\"examples/frame_pickle\")"
   ]
  },
  {
   "cell_type": "code",
   "execution_count": null,
   "metadata": {},
   "outputs": [],
   "source": [
    "In [98]: pd.read_pickle(\"examples/frame_pickle\")\n",
    "Out[98]: \n",
    "   a   b   c   d message\n",
    "0  1   2   3   4   hello\n",
    "1  5   6   7   8   world\n",
    "2  9  10  11  12     foo"
   ]
  },
  {
   "cell_type": "code",
   "execution_count": null,
   "metadata": {},
   "outputs": [],
   "source": [
    "In [100]: fec = pd.read_parquet('datasets/fec/fec.parquet')"
   ]
  },
  {
   "cell_type": "markdown",
   "metadata": {},
   "source": [
    "## Reading Microsoft Excel Files"
   ]
  },
  {
   "cell_type": "code",
   "execution_count": null,
   "metadata": {},
   "outputs": [],
   "source": [
    "In [101]: xlsx = pd.ExcelFile(\"examples/ex1.xlsx\")"
   ]
  },
  {
   "cell_type": "code",
   "execution_count": null,
   "metadata": {},
   "outputs": [],
   "source": [
    "In [102]: xlsx.sheet_names\n",
    "Out[102]: ['Sheet1']"
   ]
  },
  {
   "cell_type": "code",
   "execution_count": null,
   "metadata": {},
   "outputs": [],
   "source": [
    "In [103]: xlsx.parse(sheet_name=\"Sheet1\")\n",
    "Out[103]: \n",
    "   Unnamed: 0  a   b   c   d message\n",
    "0           0  1   2   3   4   hello\n",
    "1           1  5   6   7   8   world\n",
    "2           2  9  10  11  12     foo"
   ]
  },
  {
   "cell_type": "code",
   "execution_count": null,
   "metadata": {},
   "outputs": [],
   "source": [
    "In [104]: xlsx.parse(sheet_name=\"Sheet1\", index_col=0)\n",
    "Out[104]: \n",
    "   a   b   c   d message\n",
    "0  1   2   3   4   hello\n",
    "1  5   6   7   8   world\n",
    "2  9  10  11  12     foo"
   ]
  },
  {
   "cell_type": "code",
   "execution_count": null,
   "metadata": {},
   "outputs": [],
   "source": [
    "In [105]: frame = pd.read_excel(\"examples/ex1.xlsx\", sheet_name=\"Sheet1\")\n",
    "\n",
    "In [106]: frame\n",
    "Out[106]: \n",
    "   Unnamed: 0  a   b   c   d message\n",
    "0           0  1   2   3   4   hello\n",
    "1           1  5   6   7   8   world\n",
    "2           2  9  10  11  12     foo"
   ]
  },
  {
   "cell_type": "code",
   "execution_count": null,
   "metadata": {},
   "outputs": [],
   "source": [
    "In [107]: writer = pd.ExcelWriter(\"examples/ex2.xlsx\")\n",
    "\n",
    "In [108]: frame.to_excel(writer, \"Sheet1\")\n",
    "\n",
    "In [109]: writer.save()"
   ]
  },
  {
   "cell_type": "code",
   "execution_count": null,
   "metadata": {},
   "outputs": [],
   "source": [
    "In [110]: frame.to_excel(\"examples/ex2.xlsx\")"
   ]
  },
  {
   "cell_type": "markdown",
   "metadata": {},
   "source": [
    "## Using HDF5 Format"
   ]
  },
  {
   "cell_type": "code",
   "execution_count": null,
   "metadata": {},
   "outputs": [],
   "source": [
    "In [113]: frame = pd.DataFrame({\"a\": np.random.standard_normal(100)})\n",
    "\n",
    "In [114]: store = pd.HDFStore(\"examples/mydata.h5\")\n",
    "\n",
    "In [115]: store[\"obj1\"] = frame\n",
    "\n",
    "In [116]: store[\"obj1_col\"] = frame[\"a\"]\n",
    "\n",
    "In [117]: store\n",
    "Out[117]: \n",
    "<class 'pandas.io.pytables.HDFStore'>\n",
    "File path: examples/mydata.h5"
   ]
  },
  {
   "cell_type": "code",
   "execution_count": null,
   "metadata": {},
   "outputs": [],
   "source": [
    "In [118]: store[\"obj1\"]\n",
    "Out[118]: \n",
    "           a\n",
    "0  -0.204708\n",
    "1   0.478943\n",
    "2  -0.519439\n",
    "3  -0.555730\n",
    "4   1.965781\n",
    "..       ...\n",
    "95  0.795253\n",
    "96  0.118110\n",
    "97 -0.748532\n",
    "98  0.584970\n",
    "99  0.152677\n",
    "[100 rows x 1 columns]"
   ]
  },
  {
   "cell_type": "code",
   "execution_count": null,
   "metadata": {},
   "outputs": [],
   "source": [
    "In [119]: store.put(\"obj2\", frame, format=\"table\")\n",
    "\n",
    "In [120]: store.select(\"obj2\", where=[\"index >= 10 and index <= 15\"])\n",
    "Out[120]: \n",
    "           a\n",
    "10  1.007189\n",
    "11 -1.296221\n",
    "12  0.274992\n",
    "13  0.228913\n",
    "14  1.352917\n",
    "15  0.886429\n",
    "\n",
    "In [121]: store.close()"
   ]
  },
  {
   "cell_type": "code",
   "execution_count": null,
   "metadata": {},
   "outputs": [],
   "source": [
    "In [122]: frame.to_hdf(\"examples/mydata.h5\", \"obj3\", format=\"table\")\n",
    "\n",
    "In [123]: pd.read_hdf(\"examples/mydata.h5\", \"obj3\", where=[\"index < 5\"])\n",
    "Out[123]: \n",
    "          a\n",
    "0 -0.204708\n",
    "1  0.478943\n",
    "2 -0.519439\n",
    "3 -0.555730\n",
    "4  1.965781"
   ]
  },
  {
   "cell_type": "code",
   "execution_count": null,
   "metadata": {},
   "outputs": [],
   "source": [
    "In [124]: import os\n",
    "\n",
    "In [125]: os.remove(\"examples/mydata.h5\")"
   ]
  },
  {
   "cell_type": "markdown",
   "metadata": {},
   "source": [
    "# Interacting with Web APIs"
   ]
  },
  {
   "cell_type": "code",
   "execution_count": null,
   "metadata": {},
   "outputs": [],
   "source": [
    "In [126]: import requests\n",
    "\n",
    "In [127]: url = \"https://api.github.com/repos/pandas-dev/pandas/issues\"\n",
    "\n",
    "In [128]: resp = requests.get(url)\n",
    "\n",
    "In [129]: resp.raise_for_status()\n",
    "\n",
    "In [130]: resp\n",
    "Out[130]: <Response [200]>"
   ]
  },
  {
   "cell_type": "code",
   "execution_count": null,
   "metadata": {},
   "outputs": [],
   "source": [
    "In [131]: data = resp.json()\n",
    "\n",
    "In [132]: data[0][\"title\"]\n",
    "Out[132]: 'REF: make copy keyword non-stateful'"
   ]
  },
  {
   "cell_type": "code",
   "execution_count": null,
   "metadata": {},
   "outputs": [],
   "source": [
    "In [133]: issues = pd.DataFrame(data, columns=[\"number\", \"title\",\n",
    "   .....:                                      \"labels\", \"state\"])\n",
    "\n",
    "In [134]: issues\n",
    "Out[134]: \n",
    "    number  \\\n",
    "0    48062   \n",
    "1    48061   \n",
    "2    48060   \n",
    "3    48059   \n",
    "4    48058   \n",
    "..     ...   \n",
    "25   48032   \n",
    "26   48030   \n",
    "27   48028   \n",
    "28   48027   \n",
    "29   48026   \n",
    "                                                                         title  \\\n",
    "0                                          REF: make copy keyword non-stateful   \n",
    "1                                                        STYLE: upgrade flake8   \n",
    "2   DOC: \"Creating a Python environment\" in \"Creating a development environ...   \n",
    "3                                        REGR: Avoid overflow with groupby sum   \n",
    "4   REGR: fix reset_index (Index.insert) regression with custom Index subcl...   \n",
    "..                                                                         ...   \n",
    "25                   BUG: Union of multi index with EA types can lose EA dtype   \n",
    "26                                                     ENH: Add rolling.prod()   \n",
    "27                                       CLN: Refactor groupby's _make_wrapper   \n",
    "28                                          ENH: Support masks in groupby prod   \n",
    "29                                             DEP: Add pip to environment.yml   \n",
    "                                                                        labels  \\\n",
    "0                                                                           []   \n",
    "1   [{'id': 106935113, 'node_id': 'MDU6TGFiZWwxMDY5MzUxMTM=', 'url': 'https...   \n",
    "2   [{'id': 134699, 'node_id': 'MDU6TGFiZWwxMzQ2OTk=', 'url': 'https://api....   \n",
    "3   [{'id': 233160, 'node_id': 'MDU6TGFiZWwyMzMxNjA=', 'url': 'https://api....   \n",
    "4   [{'id': 32815646, 'node_id': 'MDU6TGFiZWwzMjgxNTY0Ng==', 'url': 'https:...   \n",
    "..                                                                         ...   \n",
    "25  [{'id': 76811, 'node_id': 'MDU6TGFiZWw3NjgxMQ==', 'url': 'https://api.g...   \n",
    "26  [{'id': 76812, 'node_id': 'MDU6TGFiZWw3NjgxMg==', 'url': 'https://api.g...   \n",
    "27  [{'id': 233160, 'node_id': 'MDU6TGFiZWwyMzMxNjA=', 'url': 'https://api....   \n",
    "28  [{'id': 233160, 'node_id': 'MDU6TGFiZWwyMzMxNjA=', 'url': 'https://api....   \n",
    "29  [{'id': 76811, 'node_id': 'MDU6TGFiZWw3NjgxMQ==', 'url': 'https://api.g...   \n",
    "   state  \n",
    "0   open  \n",
    "1   open  \n",
    "2   open  \n",
    "3   open  \n",
    "4   open  \n",
    "..   ...  \n",
    "25  open  \n",
    "26  open  \n",
    "27  open  \n",
    "28  open  \n",
    "29  open  \n",
    "[30 rows x 4 columns]"
   ]
  },
  {
   "cell_type": "markdown",
   "metadata": {},
   "source": [
    "# Interacting with Databases"
   ]
  },
  {
   "cell_type": "code",
   "execution_count": null,
   "metadata": {},
   "outputs": [],
   "source": [
    "In [135]: import sqlite3\n",
    "\n",
    "In [136]: query = \"\"\"\n",
    "   .....: CREATE TABLE test\n",
    "   .....: (a VARCHAR(20), b VARCHAR(20),\n",
    "   .....:  c REAL,        d INTEGER\n",
    "   .....: );\"\"\"\n",
    "\n",
    "In [137]: con = sqlite3.connect(\"mydata.sqlite\")\n",
    "\n",
    "In [138]: con.execute(query)\n",
    "Out[138]: <sqlite3.Cursor at 0x7fdfd73b69c0>\n",
    "\n",
    "In [139]: con.commit()"
   ]
  },
  {
   "cell_type": "code",
   "execution_count": null,
   "metadata": {},
   "outputs": [],
   "source": [
    "In [140]: data = [(\"Atlanta\", \"Georgia\", 1.25, 6),\n",
    "   .....:         (\"Tallahassee\", \"Florida\", 2.6, 3),\n",
    "   .....:         (\"Sacramento\", \"California\", 1.7, 5)]\n",
    "\n",
    "In [141]: stmt = \"INSERT INTO test VALUES(?, ?, ?, ?)\"\n",
    "\n",
    "In [142]: con.executemany(stmt, data)\n",
    "Out[142]: <sqlite3.Cursor at 0x7fdfd73a00c0>\n",
    "\n",
    "In [143]: con.commit()"
   ]
  },
  {
   "cell_type": "code",
   "execution_count": null,
   "metadata": {},
   "outputs": [],
   "source": [
    "In [144]: cursor = con.execute(\"SELECT * FROM test\")\n",
    "\n",
    "In [145]: rows = cursor.fetchall()\n",
    "\n",
    "In [146]: rows\n",
    "Out[146]: \n",
    "[('Atlanta', 'Georgia', 1.25, 6),\n",
    " ('Tallahassee', 'Florida', 2.6, 3),\n",
    " ('Sacramento', 'California', 1.7, 5)]"
   ]
  },
  {
   "cell_type": "code",
   "execution_count": null,
   "metadata": {},
   "outputs": [],
   "source": [
    "In [147]: cursor.description\n",
    "Out[147]: \n",
    "(('a', None, None, None, None, None, None),\n",
    " ('b', None, None, None, None, None, None),\n",
    " ('c', None, None, None, None, None, None),\n",
    " ('d', None, None, None, None, None, None))\n",
    "\n",
    "In [148]: pd.DataFrame(rows, columns=[x[0] for x in cursor.description])\n",
    "Out[148]: \n",
    "             a           b     c  d\n",
    "0      Atlanta     Georgia  1.25  6\n",
    "1  Tallahassee     Florida  2.60  3\n",
    "2   Sacramento  California  1.70  5"
   ]
  },
  {
   "cell_type": "code",
   "execution_count": null,
   "metadata": {},
   "outputs": [],
   "source": [
    "In [149]: import sqlalchemy as sqla\n",
    "\n",
    "In [150]: db = sqla.create_engine(\"sqlite:///mydata.sqlite\")\n",
    "\n",
    "In [151]: pd.read_sql(\"SELECT * FROM test\", db)\n",
    "Out[151]: \n",
    "             a           b     c  d\n",
    "0      Atlanta     Georgia  1.25  6\n",
    "1  Tallahassee     Florida  2.60  3\n",
    "2   Sacramento  California  1.70  5"
   ]
  },
  {
   "cell_type": "code",
   "execution_count": null,
   "metadata": {},
   "outputs": [],
   "source": []
  },
  {
   "cell_type": "code",
   "execution_count": null,
   "metadata": {},
   "outputs": [],
   "source": []
  },
  {
   "cell_type": "code",
   "execution_count": null,
   "metadata": {},
   "outputs": [],
   "source": []
  }
 ],
 "metadata": {
  "kernelspec": {
   "display_name": "Python 3 (ipykernel)",
   "language": "python",
   "name": "python3"
  },
  "language_info": {
   "codemirror_mode": {
    "name": "ipython",
    "version": 3
   },
   "file_extension": ".py",
   "mimetype": "text/x-python",
   "name": "python",
   "nbconvert_exporter": "python",
   "pygments_lexer": "ipython3",
   "version": "3.11.2"
  }
 },
 "nbformat": 4,
 "nbformat_minor": 4
}
