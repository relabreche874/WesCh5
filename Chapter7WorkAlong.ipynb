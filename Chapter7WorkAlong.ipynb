{
 "cells": [
  {
   "cell_type": "markdown",
   "metadata": {},
   "source": [
    "# Chapter 7"
   ]
  },
  {
   "cell_type": "markdown",
   "metadata": {},
   "source": [
    "# Handling Missing Data"
   ]
  },
  {
   "cell_type": "code",
   "execution_count": null,
   "metadata": {},
   "outputs": [],
   "source": [
    "In [14]: float_data = pd.Series([1.2, -3.5, np.nan, 0])\n",
    "\n",
    "In [15]: float_data\n",
    "Out[15]: \n",
    "0    1.2\n",
    "1   -3.5\n",
    "2    NaN\n",
    "3    0.0\n",
    "dtype: float64"
   ]
  },
  {
   "cell_type": "code",
   "execution_count": null,
   "metadata": {},
   "outputs": [],
   "source": [
    "In [16]: float_data.isna()\n",
    "Out[16]: \n",
    "0    False\n",
    "1    False\n",
    "2     True\n",
    "3    False\n",
    "dtype: bool"
   ]
  },
  {
   "cell_type": "code",
   "execution_count": null,
   "metadata": {},
   "outputs": [],
   "source": [
    "In [17]: string_data = pd.Series([\"aardvark\", np.nan, None, \"avocado\"])\n",
    "\n",
    "In [18]: string_data\n",
    "Out[18]: \n",
    "0    aardvark\n",
    "1         NaN\n",
    "2        None\n",
    "3     avocado\n",
    "dtype: object\n",
    "\n",
    "In [19]: string_data.isna()\n",
    "Out[19]: \n",
    "0    False\n",
    "1     True\n",
    "2     True\n",
    "3    False\n",
    "dtype: bool\n",
    "\n",
    "In [20]: float_data = pd.Series([1, 2, None], dtype='float64')\n",
    "\n",
    "In [21]: float_data\n",
    "Out[21]: \n",
    "0    1.0\n",
    "1    2.0\n",
    "2    NaN\n",
    "dtype: float64\n",
    "\n",
    "In [22]: float_data.isna()\n",
    "Out[22]: \n",
    "0    False\n",
    "1    False\n",
    "2     True\n",
    "dtype: bool"
   ]
  },
  {
   "cell_type": "markdown",
   "metadata": {},
   "source": [
    "## Filtering out Missing Data"
   ]
  },
  {
   "cell_type": "code",
   "execution_count": null,
   "metadata": {},
   "outputs": [],
   "source": [
    "In [23]: data = pd.Series([1, np.nan, 3.5, np.nan, 7])\n",
    "\n",
    "In [24]: data.dropna()\n",
    "Out[24]: \n",
    "0    1.0\n",
    "2    3.5\n",
    "4    7.0\n",
    "dtype: float64"
   ]
  },
  {
   "cell_type": "code",
   "execution_count": null,
   "metadata": {},
   "outputs": [],
   "source": [
    "In [25]: data[data.notna()]\n",
    "Out[25]: \n",
    "0    1.0\n",
    "2    3.5\n",
    "4    7.0\n",
    "dtype: float64"
   ]
  },
  {
   "cell_type": "code",
   "execution_count": null,
   "metadata": {},
   "outputs": [],
   "source": [
    "In [26]: data = pd.DataFrame([[1., 6.5, 3.], [1., np.nan, np.nan],\n",
    "   ....:                      [np.nan, np.nan, np.nan], [np.nan, 6.5, 3.]])\n",
    "\n",
    "In [27]: data\n",
    "Out[27]: \n",
    "     0    1    2\n",
    "0  1.0  6.5  3.0\n",
    "1  1.0  NaN  NaN\n",
    "2  NaN  NaN  NaN\n",
    "3  NaN  6.5  3.0\n",
    "\n",
    "In [28]: data.dropna()\n",
    "Out[28]: \n",
    "     0    1    2\n",
    "0  1.0  6.5  3.0"
   ]
  },
  {
   "cell_type": "code",
   "execution_count": null,
   "metadata": {},
   "outputs": [],
   "source": [
    "In [29]: data.dropna(how=\"all\")\n",
    "Out[29]: \n",
    "     0    1    2\n",
    "0  1.0  6.5  3.0\n",
    "1  1.0  NaN  NaN\n",
    "3  NaN  6.5  3.0"
   ]
  },
  {
   "cell_type": "code",
   "execution_count": null,
   "metadata": {},
   "outputs": [],
   "source": [
    "In [30]: data[4] = np.nan\n",
    "\n",
    "In [31]: data\n",
    "Out[31]: \n",
    "     0    1    2   4\n",
    "0  1.0  6.5  3.0 NaN\n",
    "1  1.0  NaN  NaN NaN\n",
    "2  NaN  NaN  NaN NaN\n",
    "3  NaN  6.5  3.0 NaN\n",
    "\n",
    "In [32]: data.dropna(axis=\"columns\", how=\"all\")\n",
    "Out[32]: \n",
    "     0    1    2\n",
    "0  1.0  6.5  3.0\n",
    "1  1.0  NaN  NaN\n",
    "2  NaN  NaN  NaN\n",
    "3  NaN  6.5  3.0"
   ]
  },
  {
   "cell_type": "code",
   "execution_count": null,
   "metadata": {},
   "outputs": [],
   "source": [
    "In [33]: df = pd.DataFrame(np.random.standard_normal((7, 3)))\n",
    "\n",
    "In [34]: df.iloc[:4, 1] = np.nan\n",
    "\n",
    "In [35]: df.iloc[:2, 2] = np.nan\n",
    "\n",
    "In [36]: df\n",
    "Out[36]: \n",
    "          0         1         2\n",
    "0 -0.204708       NaN       NaN\n",
    "1 -0.555730       NaN       NaN\n",
    "2  0.092908       NaN  0.769023\n",
    "3  1.246435       NaN -1.296221\n",
    "4  0.274992  0.228913  1.352917\n",
    "5  0.886429 -2.001637 -0.371843\n",
    "6  1.669025 -0.438570 -0.539741\n",
    "\n",
    "In [37]: df.dropna()\n",
    "Out[37]: \n",
    "          0         1         2\n",
    "4  0.274992  0.228913  1.352917\n",
    "5  0.886429 -2.001637 -0.371843\n",
    "6  1.669025 -0.438570 -0.539741\n",
    "\n",
    "In [38]: df.dropna(thresh=2)\n",
    "Out[38]: \n",
    "          0         1         2\n",
    "2  0.092908       NaN  0.769023\n",
    "3  1.246435       NaN -1.296221\n",
    "4  0.274992  0.228913  1.352917\n",
    "5  0.886429 -2.001637 -0.371843\n",
    "6  1.669025 -0.438570 -0.539741"
   ]
  },
  {
   "cell_type": "markdown",
   "metadata": {},
   "source": [
    "## Filling In Missing Data"
   ]
  },
  {
   "cell_type": "code",
   "execution_count": null,
   "metadata": {},
   "outputs": [],
   "source": [
    "In [39]: df.fillna(0)\n",
    "Out[39]: \n",
    "          0         1         2\n",
    "0 -0.204708  0.000000  0.000000\n",
    "1 -0.555730  0.000000  0.000000\n",
    "2  0.092908  0.000000  0.769023\n",
    "3  1.246435  0.000000 -1.296221\n",
    "4  0.274992  0.228913  1.352917\n",
    "5  0.886429 -2.001637 -0.371843\n",
    "6  1.669025 -0.438570 -0.539741"
   ]
  },
  {
   "cell_type": "code",
   "execution_count": null,
   "metadata": {},
   "outputs": [],
   "source": [
    "In [40]: df.fillna({1: 0.5, 2: 0})\n",
    "Out[40]: \n",
    "          0         1         2\n",
    "0 -0.204708  0.500000  0.000000\n",
    "1 -0.555730  0.500000  0.000000\n",
    "2  0.092908  0.500000  0.769023\n",
    "3  1.246435  0.500000 -1.296221\n",
    "4  0.274992  0.228913  1.352917\n",
    "5  0.886429 -2.001637 -0.371843\n",
    "6  1.669025 -0.438570 -0.539741"
   ]
  },
  {
   "cell_type": "code",
   "execution_count": null,
   "metadata": {},
   "outputs": [],
   "source": [
    "In [41]: df = pd.DataFrame(np.random.standard_normal((6, 3)))\n",
    "\n",
    "In [42]: df.iloc[2:, 1] = np.nan\n",
    "\n",
    "In [43]: df.iloc[4:, 2] = np.nan\n",
    "\n",
    "In [44]: df\n",
    "Out[44]: \n",
    "          0         1         2\n",
    "0  0.476985  3.248944 -1.021228\n",
    "1 -0.577087  0.124121  0.302614\n",
    "2  0.523772       NaN  1.343810\n",
    "3 -0.713544       NaN -2.370232\n",
    "4 -1.860761       NaN       NaN\n",
    "5 -1.265934       NaN       NaN\n",
    "\n",
    "In [45]: df.fillna(method=\"ffill\")\n",
    "Out[45]: \n",
    "          0         1         2\n",
    "0  0.476985  3.248944 -1.021228\n",
    "1 -0.577087  0.124121  0.302614\n",
    "2  0.523772  0.124121  1.343810\n",
    "3 -0.713544  0.124121 -2.370232\n",
    "4 -1.860761  0.124121 -2.370232\n",
    "5 -1.265934  0.124121 -2.370232\n",
    "\n",
    "In [46]: df.fillna(method=\"ffill\", limit=2)\n",
    "Out[46]: \n",
    "          0         1         2\n",
    "0  0.476985  3.248944 -1.021228\n",
    "1 -0.577087  0.124121  0.302614\n",
    "2  0.523772  0.124121  1.343810\n",
    "3 -0.713544  0.124121 -2.370232\n",
    "4 -1.860761       NaN -2.370232\n",
    "5 -1.265934       NaN -2.370232"
   ]
  },
  {
   "cell_type": "code",
   "execution_count": null,
   "metadata": {},
   "outputs": [],
   "source": [
    "In [47]: data = pd.Series([1., np.nan, 3.5, np.nan, 7])\n",
    "\n",
    "In [48]: data.fillna(data.mean())\n",
    "Out[48]: \n",
    "0    1.000000\n",
    "1    3.833333\n",
    "2    3.500000\n",
    "3    3.833333\n",
    "4    7.000000\n",
    "dtype: float64"
   ]
  },
  {
   "cell_type": "markdown",
   "metadata": {},
   "source": [
    "# Data Transformation"
   ]
  },
  {
   "cell_type": "markdown",
   "metadata": {},
   "source": [
    "## Removing Duplicates"
   ]
  },
  {
   "cell_type": "code",
   "execution_count": null,
   "metadata": {},
   "outputs": [],
   "source": [
    "In [49]: data = pd.DataFrame({\"k1\": [\"one\", \"two\"] * 3 + [\"two\"],\n",
    "   ....:                      \"k2\": [1, 1, 2, 3, 3, 4, 4]})\n",
    "\n",
    "In [50]: data\n",
    "Out[50]: \n",
    "    k1  k2\n",
    "0  one   1\n",
    "1  two   1\n",
    "2  one   2\n",
    "3  two   3\n",
    "4  one   3\n",
    "5  two   4\n",
    "6  two   4"
   ]
  },
  {
   "cell_type": "code",
   "execution_count": null,
   "metadata": {},
   "outputs": [],
   "source": [
    "In [51]: data.duplicated()\n",
    "Out[51]: \n",
    "0    False\n",
    "1    False\n",
    "2    False\n",
    "3    False\n",
    "4    False\n",
    "5    False\n",
    "6     True\n",
    "dtype: bool"
   ]
  },
  {
   "cell_type": "code",
   "execution_count": null,
   "metadata": {},
   "outputs": [],
   "source": [
    "In [52]: data.drop_duplicates()\n",
    "Out[52]: \n",
    "    k1  k2\n",
    "0  one   1\n",
    "1  two   1\n",
    "2  one   2\n",
    "3  two   3\n",
    "4  one   3\n",
    "5  two   4"
   ]
  },
  {
   "cell_type": "code",
   "execution_count": null,
   "metadata": {},
   "outputs": [],
   "source": [
    "In [53]: data[\"v1\"] = range(7)\n",
    "\n",
    "In [54]: data\n",
    "Out[54]: \n",
    "    k1  k2  v1\n",
    "0  one   1   0\n",
    "1  two   1   1\n",
    "2  one   2   2\n",
    "3  two   3   3\n",
    "4  one   3   4\n",
    "5  two   4   5\n",
    "6  two   4   6\n",
    "\n",
    "In [55]: data.drop_duplicates(subset=[\"k1\"])\n",
    "Out[55]: \n",
    "    k1  k2  v1\n",
    "0  one   1   0\n",
    "1  two   1   1"
   ]
  },
  {
   "cell_type": "code",
   "execution_count": null,
   "metadata": {},
   "outputs": [],
   "source": [
    "In [56]: data.drop_duplicates([\"k1\", \"k2\"], keep=\"last\")\n",
    "Out[56]: \n",
    "    k1  k2  v1\n",
    "0  one   1   0\n",
    "1  two   1   1\n",
    "2  one   2   2\n",
    "3  two   3   3\n",
    "4  one   3   4\n",
    "6  two   4   6"
   ]
  },
  {
   "cell_type": "markdown",
   "metadata": {},
   "source": [
    "## Transforming Data Using a Function or Mapping"
   ]
  },
  {
   "cell_type": "code",
   "execution_count": null,
   "metadata": {},
   "outputs": [],
   "source": [
    "In [57]: data = pd.DataFrame({\"food\": [\"bacon\", \"pulled pork\", \"bacon\",\n",
    "   ....:                               \"pastrami\", \"corned beef\", \"bacon\",\n",
    "   ....:                               \"pastrami\", \"honey ham\", \"nova lox\"],\n",
    "   ....:                      \"ounces\": [4, 3, 12, 6, 7.5, 8, 3, 5, 6]})\n",
    "\n",
    "In [58]: data\n",
    "Out[58]: \n",
    "          food  ounces\n",
    "0        bacon     4.0\n",
    "1  pulled pork     3.0\n",
    "2        bacon    12.0\n",
    "3     pastrami     6.0\n",
    "4  corned beef     7.5\n",
    "5        bacon     8.0\n",
    "6     pastrami     3.0\n",
    "7    honey ham     5.0\n",
    "8     nova lox     6.0"
   ]
  },
  {
   "cell_type": "code",
   "execution_count": null,
   "metadata": {},
   "outputs": [],
   "source": [
    "meat_to_animal = {\n",
    "  \"bacon\": \"pig\",\n",
    "  \"pulled pork\": \"pig\",\n",
    "  \"pastrami\": \"cow\",\n",
    "  \"corned beef\": \"cow\",\n",
    "  \"honey ham\": \"pig\",\n",
    "  \"nova lox\": \"salmon\"\n",
    "}"
   ]
  },
  {
   "cell_type": "code",
   "execution_count": null,
   "metadata": {},
   "outputs": [],
   "source": [
    "In [60]: data[\"animal\"] = data[\"food\"].map(meat_to_animal)\n",
    "\n",
    "In [61]: data\n",
    "Out[61]: \n",
    "          food  ounces  animal\n",
    "0        bacon     4.0     pig\n",
    "1  pulled pork     3.0     pig\n",
    "2        bacon    12.0     pig\n",
    "3     pastrami     6.0     cow\n",
    "4  corned beef     7.5     cow\n",
    "5        bacon     8.0     pig\n",
    "6     pastrami     3.0     cow\n",
    "7    honey ham     5.0     pig\n",
    "8     nova lox     6.0  salmon"
   ]
  },
  {
   "cell_type": "code",
   "execution_count": null,
   "metadata": {},
   "outputs": [],
   "source": [
    "In [62]: def get_animal(x):\n",
    "   ....:     return meat_to_animal[x]\n",
    "\n",
    "In [63]: data[\"food\"].map(get_animal)\n",
    "Out[63]: \n",
    "0       pig\n",
    "1       pig\n",
    "2       pig\n",
    "3       cow\n",
    "4       cow\n",
    "5       pig\n",
    "6       cow\n",
    "7       pig\n",
    "8    salmon\n",
    "Name: food, dtype: object"
   ]
  },
  {
   "cell_type": "markdown",
   "metadata": {},
   "source": [
    "## Replacing Values"
   ]
  },
  {
   "cell_type": "code",
   "execution_count": null,
   "metadata": {},
   "outputs": [],
   "source": [
    "In [64]: data = pd.Series([1., -999., 2., -999., -1000., 3.])\n",
    "\n",
    "In [65]: data\n",
    "Out[65]: \n",
    "0       1.0\n",
    "1    -999.0\n",
    "2       2.0\n",
    "3    -999.0\n",
    "4   -1000.0\n",
    "5       3.0\n",
    "dtype: float64"
   ]
  },
  {
   "cell_type": "code",
   "execution_count": null,
   "metadata": {},
   "outputs": [],
   "source": [
    "In [66]: data.replace(-999, np.nan)\n",
    "Out[66]: \n",
    "0       1.0\n",
    "1       NaN\n",
    "2       2.0\n",
    "3       NaN\n",
    "4   -1000.0\n",
    "5       3.0\n",
    "dtype: float64"
   ]
  },
  {
   "cell_type": "code",
   "execution_count": null,
   "metadata": {},
   "outputs": [],
   "source": [
    "In [67]: data.replace([-999, -1000], np.nan)\n",
    "Out[67]: \n",
    "0    1.0\n",
    "1    NaN\n",
    "2    2.0\n",
    "3    NaN\n",
    "4    NaN\n",
    "5    3.0\n",
    "dtype: float64"
   ]
  },
  {
   "cell_type": "code",
   "execution_count": null,
   "metadata": {},
   "outputs": [],
   "source": [
    "In [68]: data.replace([-999, -1000], [np.nan, 0])\n",
    "Out[68]: \n",
    "0    1.0\n",
    "1    NaN\n",
    "2    2.0\n",
    "3    NaN\n",
    "4    0.0\n",
    "5    3.0\n",
    "dtype: float64"
   ]
  },
  {
   "cell_type": "code",
   "execution_count": null,
   "metadata": {},
   "outputs": [],
   "source": [
    "In [69]: data.replace({-999: np.nan, -1000: 0})\n",
    "Out[69]: \n",
    "0    1.0\n",
    "1    NaN\n",
    "2    2.0\n",
    "3    NaN\n",
    "4    0.0\n",
    "5    3.0\n",
    "dtype: float64"
   ]
  },
  {
   "cell_type": "markdown",
   "metadata": {},
   "source": [
    "## Renaming Axis Indexes"
   ]
  },
  {
   "cell_type": "code",
   "execution_count": null,
   "metadata": {},
   "outputs": [],
   "source": [
    "In [70]: data = pd.DataFrame(np.arange(12).reshape((3, 4)),\n",
    "   ....:                     index=[\"Ohio\", \"Colorado\", \"New York\"],\n",
    "   ....:                     columns=[\"one\", \"two\", \"three\", \"four\"])"
   ]
  },
  {
   "cell_type": "code",
   "execution_count": null,
   "metadata": {},
   "outputs": [],
   "source": [
    "In [73]: data.index = data.index.map(transform)\n",
    "\n",
    "In [74]: data\n",
    "Out[74]: \n",
    "      one  two  three  four\n",
    "OHIO    0    1      2     3\n",
    "COLO    4    5      6     7\n",
    "NEW     8    9     10    11"
   ]
  },
  {
   "cell_type": "code",
   "execution_count": null,
   "metadata": {},
   "outputs": [],
   "source": [
    "In [75]: data.rename(index=str.title, columns=str.upper)\n",
    "Out[75]: \n",
    "      ONE  TWO  THREE  FOUR\n",
    "Ohio    0    1      2     3\n",
    "Colo    4    5      6     7\n",
    "New     8    9     10    11"
   ]
  },
  {
   "cell_type": "code",
   "execution_count": null,
   "metadata": {},
   "outputs": [],
   "source": [
    "In [76]: data.rename(index={\"OHIO\": \"INDIANA\"},\n",
    "   ....:             columns={\"three\": \"peekaboo\"})\n",
    "Out[76]: \n",
    "         one  two  peekaboo  four\n",
    "INDIANA    0    1         2     3\n",
    "COLO       4    5         6     7\n",
    "NEW        8    9        10    11"
   ]
  },
  {
   "cell_type": "markdown",
   "metadata": {},
   "source": [
    "## Discretization and Binning"
   ]
  },
  {
   "cell_type": "code",
   "execution_count": null,
   "metadata": {},
   "outputs": [],
   "source": [
    "In [77]: ages = [20, 22, 25, 27, 21, 23, 37, 31, 61, 45, 41, 32]"
   ]
  },
  {
   "cell_type": "code",
   "execution_count": null,
   "metadata": {},
   "outputs": [],
   "source": [
    "In [78]: bins = [18, 25, 35, 60, 100]\n",
    "\n",
    "In [79]: age_categories = pd.cut(ages, bins)\n",
    "\n",
    "In [80]: age_categories\n",
    "Out[80]: \n",
    "[(18, 25], (18, 25], (18, 25], (25, 35], (18, 25], ..., (25, 35], (60, 100], (35,\n",
    " 60], (35, 60], (25, 35]]\n",
    "Length: 12\n",
    "Categories (4, interval[int64, right]): [(18, 25] < (25, 35] < (35, 60] < (60, 10\n",
    "0]]"
   ]
  },
  {
   "cell_type": "code",
   "execution_count": null,
   "metadata": {},
   "outputs": [],
   "source": [
    "In [81]: age_categories.codes\n",
    "Out[81]: array([0, 0, 0, 1, 0, 0, 2, 1, 3, 2, 2, 1], dtype=int8)\n",
    "\n",
    "In [82]: age_categories.categories\n",
    "Out[82]: IntervalIndex([(18, 25], (25, 35], (35, 60], (60, 100]], dtype='interval\n",
    "[int64, right]')\n",
    "\n",
    "In [83]: age_categories.categories[0]\n",
    "Out[83]: Interval(18, 25, closed='right')\n",
    "\n",
    "In [84]: pd.value_counts(age_categories)\n",
    "Out[84]: \n",
    "(18, 25]     5\n",
    "(25, 35]     3\n",
    "(35, 60]     3\n",
    "(60, 100]    1\n",
    "dtype: int64"
   ]
  },
  {
   "cell_type": "code",
   "execution_count": null,
   "metadata": {},
   "outputs": [],
   "source": [
    "In [85]: pd.cut(ages, bins, right=False)\n",
    "Out[85]: \n",
    "[[18, 25), [18, 25), [25, 35), [25, 35), [18, 25), ..., [25, 35), [60, 100), [35,\n",
    " 60), [35, 60), [25, 35)]\n",
    "Length: 12\n",
    "Categories (4, interval[int64, left]): [[18, 25) < [25, 35) < [35, 60) < [60, 100\n",
    ")]"
   ]
  },
  {
   "cell_type": "code",
   "execution_count": null,
   "metadata": {},
   "outputs": [],
   "source": [
    "In [86]: group_names = [\"Youth\", \"YoungAdult\", \"MiddleAged\", \"Senior\"]\n",
    "\n",
    "In [87]: pd.cut(ages, bins, labels=group_names)\n",
    "Out[87]: \n",
    "['Youth', 'Youth', 'Youth', 'YoungAdult', 'Youth', ..., 'YoungAdult', 'Senior', '\n",
    "MiddleAged', 'MiddleAged', 'YoungAdult']\n",
    "Length: 12\n",
    "Categories (4, object): ['Youth' < 'YoungAdult' < 'MiddleAged' < 'Senior']"
   ]
  },
  {
   "cell_type": "code",
   "execution_count": null,
   "metadata": {},
   "outputs": [],
   "source": [
    "In [90]: data = np.random.standard_normal(1000)\n",
    "\n",
    "In [91]: quartiles = pd.qcut(data, 4, precision=2)\n",
    "\n",
    "In [92]: quartiles\n",
    "Out[92]: \n",
    "[(-0.026, 0.62], (0.62, 3.93], (-0.68, -0.026], (0.62, 3.93], (-0.026, 0.62], ...\n",
    ", (-0.68, -0.026], (-0.68, -0.026], (-2.96, -0.68], (0.62, 3.93], (-0.68, -0.026]\n",
    "]\n",
    "Length: 1000\n",
    "Categories (4, interval[float64, right]): [(-2.96, -0.68] < (-0.68, -0.026] < (-0\n",
    ".026, 0.62] <\n",
    "                                           (0.62, 3.93]]\n",
    "\n",
    "In [93]: pd.value_counts(quartiles)\n",
    "Out[93]: \n",
    "(-2.96, -0.68]     250\n",
    "(-0.68, -0.026]    250\n",
    "(-0.026, 0.62]     250\n",
    "(0.62, 3.93]       250\n",
    "dtype: int64"
   ]
  },
  {
   "cell_type": "code",
   "execution_count": null,
   "metadata": {},
   "outputs": [],
   "source": [
    "In [94]: pd.qcut(data, [0, 0.1, 0.5, 0.9, 1.]).value_counts()\n",
    "Out[94]: \n",
    "(-2.9499999999999997, -1.187]    100\n",
    "(-1.187, -0.0265]                400\n",
    "(-0.0265, 1.286]                 400\n",
    "(1.286, 3.928]                   100\n",
    "dtype: int64"
   ]
  },
  {
   "cell_type": "markdown",
   "metadata": {},
   "source": [
    "## Detecting and Filtering Outliers"
   ]
  },
  {
   "cell_type": "code",
   "execution_count": null,
   "metadata": {},
   "outputs": [],
   "source": [
    "In [95]: data = pd.DataFrame(np.random.standard_normal((1000, 4)))\n",
    "\n",
    "In [96]: data.describe()\n",
    "Out[96]: \n",
    "                 0            1            2            3\n",
    "count  1000.000000  1000.000000  1000.000000  1000.000000\n",
    "mean      0.049091     0.026112    -0.002544    -0.051827\n",
    "std       0.996947     1.007458     0.995232     0.998311\n",
    "min      -3.645860    -3.184377    -3.745356    -3.428254\n",
    "25%      -0.599807    -0.612162    -0.687373    -0.747478\n",
    "50%       0.047101    -0.013609    -0.022158    -0.088274\n",
    "75%       0.756646     0.695298     0.699046     0.623331\n",
    "max       2.653656     3.525865     2.735527     3.366626"
   ]
  },
  {
   "cell_type": "code",
   "execution_count": null,
   "metadata": {},
   "outputs": [],
   "source": [
    "In [97]: col = data[2]\n",
    "\n",
    "In [98]: col[col.abs() > 3]\n",
    "Out[98]: \n",
    "41    -3.399312\n",
    "136   -3.745356\n",
    "Name: 2, dtype: float64"
   ]
  },
  {
   "cell_type": "code",
   "execution_count": null,
   "metadata": {},
   "outputs": [],
   "source": [
    "In [99]: data[(data.abs() > 3).any(axis=\"columns\")]\n",
    "Out[99]: \n",
    "            0         1         2         3\n",
    "41   0.457246 -0.025907 -3.399312 -0.974657\n",
    "60   1.951312  3.260383  0.963301  1.201206\n",
    "136  0.508391 -0.196713 -3.745356 -1.520113\n",
    "235 -0.242459 -3.056990  1.918403 -0.578828\n",
    "258  0.682841  0.326045  0.425384 -3.428254\n",
    "322  1.179227 -3.184377  1.369891 -1.074833\n",
    "544 -3.548824  1.553205 -2.186301  1.277104\n",
    "635 -0.578093  0.193299  1.397822  3.366626\n",
    "782 -0.207434  3.525865  0.283070  0.544635\n",
    "803 -3.645860  0.255475 -0.549574 -1.907459"
   ]
  },
  {
   "cell_type": "code",
   "execution_count": null,
   "metadata": {},
   "outputs": [],
   "source": [
    "In [100]: data[data.abs() > 3] = np.sign(data) * 3\n",
    "\n",
    "In [101]: data.describe()\n",
    "Out[101]: \n",
    "                 0            1            2            3\n",
    "count  1000.000000  1000.000000  1000.000000  1000.000000\n",
    "mean      0.050286     0.025567    -0.001399    -0.051765\n",
    "std       0.992920     1.004214     0.991414     0.995761\n",
    "min      -3.000000    -3.000000    -3.000000    -3.000000\n",
    "25%      -0.599807    -0.612162    -0.687373    -0.747478\n",
    "50%       0.047101    -0.013609    -0.022158    -0.088274\n",
    "75%       0.756646     0.695298     0.699046     0.623331\n",
    "max       2.653656     3.000000     2.735527     3.000000"
   ]
  },
  {
   "cell_type": "code",
   "execution_count": null,
   "metadata": {},
   "outputs": [],
   "source": [
    "In [102]: np.sign(data).head()\n",
    "Out[102]: \n",
    "     0    1    2    3\n",
    "0 -1.0  1.0 -1.0  1.0\n",
    "1  1.0 -1.0  1.0 -1.0\n",
    "2  1.0  1.0  1.0 -1.0\n",
    "3 -1.0 -1.0  1.0 -1.0\n",
    "4 -1.0  1.0 -1.0 -1.0"
   ]
  },
  {
   "cell_type": "markdown",
   "metadata": {},
   "source": [
    "## Permutation and Random Sampling"
   ]
  },
  {
   "cell_type": "code",
   "execution_count": null,
   "metadata": {},
   "outputs": [],
   "source": [
    "In [103]: df = pd.DataFrame(np.arange(5 * 7).reshape((5, 7)))\n",
    "\n",
    "In [104]: df\n",
    "Out[104]: \n",
    "    0   1   2   3   4   5   6\n",
    "0   0   1   2   3   4   5   6\n",
    "1   7   8   9  10  11  12  13\n",
    "2  14  15  16  17  18  19  20\n",
    "3  21  22  23  24  25  26  27\n",
    "4  28  29  30  31  32  33  34\n",
    "\n",
    "In [105]: sampler = np.random.permutation(5)\n",
    "\n",
    "In [106]: sampler\n",
    "Out[106]: array([3, 1, 4, 2, 0])"
   ]
  },
  {
   "cell_type": "code",
   "execution_count": null,
   "metadata": {},
   "outputs": [],
   "source": [
    "In [107]: df.take(sampler)\n",
    "Out[107]: \n",
    "    0   1   2   3   4   5   6\n",
    "3  21  22  23  24  25  26  27\n",
    "1   7   8   9  10  11  12  13\n",
    "4  28  29  30  31  32  33  34\n",
    "2  14  15  16  17  18  19  20\n",
    "0   0   1   2   3   4   5   6\n",
    "\n",
    "In [108]: df.iloc[sampler]\n",
    "Out[108]: \n",
    "    0   1   2   3   4   5   6\n",
    "3  21  22  23  24  25  26  27\n",
    "1   7   8   9  10  11  12  13\n",
    "4  28  29  30  31  32  33  34\n",
    "2  14  15  16  17  18  19  20\n",
    "0   0   1   2   3   4   5   6"
   ]
  },
  {
   "cell_type": "code",
   "execution_count": null,
   "metadata": {},
   "outputs": [],
   "source": [
    "In [109]: column_sampler = np.random.permutation(7)\n",
    "\n",
    "In [110]: column_sampler\n",
    "Out[110]: array([4, 6, 3, 2, 1, 0, 5])\n",
    "\n",
    "In [111]: df.take(column_sampler, axis=\"columns\")\n",
    "Out[111]: \n",
    "    4   6   3   2   1   0   5\n",
    "0   4   6   3   2   1   0   5\n",
    "1  11  13  10   9   8   7  12\n",
    "2  18  20  17  16  15  14  19\n",
    "3  25  27  24  23  22  21  26\n",
    "4  32  34  31  30  29  28  33"
   ]
  },
  {
   "cell_type": "code",
   "execution_count": null,
   "metadata": {},
   "outputs": [],
   "source": [
    "In [112]: df.sample(n=3)\n",
    "Out[112]: \n",
    "    0   1   2   3   4   5   6\n",
    "2  14  15  16  17  18  19  20\n",
    "4  28  29  30  31  32  33  34\n",
    "0   0   1   2   3   4   5   6"
   ]
  },
  {
   "cell_type": "code",
   "execution_count": null,
   "metadata": {},
   "outputs": [],
   "source": [
    "In [113]: choices = pd.Series([5, 7, -1, 6, 4])\n",
    "\n",
    "In [114]: choices.sample(n=10, replace=True)\n",
    "Out[114]: \n",
    "2   -1\n",
    "0    5\n",
    "3    6\n",
    "1    7\n",
    "4    4\n",
    "0    5\n",
    "4    4\n",
    "0    5\n",
    "4    4\n",
    "4    4\n",
    "dtype: int64"
   ]
  },
  {
   "cell_type": "markdown",
   "metadata": {},
   "source": [
    "## Computing Indicator/Dummy Variables"
   ]
  },
  {
   "cell_type": "code",
   "execution_count": null,
   "metadata": {},
   "outputs": [],
   "source": [
    "In [115]: df = pd.DataFrame({\"key\": [\"b\", \"b\", \"a\", \"c\", \"a\", \"b\"],\n",
    "   .....:                    \"data1\": range(6)})\n",
    "\n",
    "In [116]: df\n",
    "Out[116]: \n",
    "  key  data1\n",
    "0   b      0\n",
    "1   b      1\n",
    "2   a      2\n",
    "3   c      3\n",
    "4   a      4\n",
    "5   b      5\n",
    "\n",
    "In [117]: pd.get_dummies(df[\"key\"])\n",
    "Out[117]: \n",
    "   a  b  c\n",
    "0  0  1  0\n",
    "1  0  1  0\n",
    "2  1  0  0\n",
    "3  0  0  1\n",
    "4  1  0  0\n",
    "5  0  1  0"
   ]
  },
  {
   "cell_type": "code",
   "execution_count": null,
   "metadata": {},
   "outputs": [],
   "source": [
    "In [118]: dummies = pd.get_dummies(df[\"key\"], prefix=\"key\")\n",
    "\n",
    "In [119]: df_with_dummy = df[[\"data1\"]].join(dummies)\n",
    "\n",
    "In [120]: df_with_dummy\n",
    "Out[120]: \n",
    "   data1  key_a  key_b  key_c\n",
    "0      0      0      1      0\n",
    "1      1      0      1      0\n",
    "2      2      1      0      0\n",
    "3      3      0      0      1\n",
    "4      4      1      0      0\n",
    "5      5      0      1      0"
   ]
  },
  {
   "cell_type": "code",
   "execution_count": null,
   "metadata": {},
   "outputs": [],
   "source": [
    "In [121]: mnames = [\"movie_id\", \"title\", \"genres\"]\n",
    "\n",
    "In [122]: movies = pd.read_table(\"datasets/movielens/movies.dat\", sep=\"::\",\n",
    "   .....:                        header=None, names=mnames, engine=\"python\")\n",
    "\n",
    "In [123]: movies[:10]\n",
    "Out[123]: \n",
    "   movie_id                               title                        genres\n",
    "0         1                    Toy Story (1995)   Animation|Children's|Comedy\n",
    "1         2                      Jumanji (1995)  Adventure|Children's|Fantasy\n",
    "2         3             Grumpier Old Men (1995)                Comedy|Romance\n",
    "3         4            Waiting to Exhale (1995)                  Comedy|Drama\n",
    "4         5  Father of the Bride Part II (1995)                        Comedy\n",
    "5         6                         Heat (1995)         Action|Crime|Thriller\n",
    "6         7                      Sabrina (1995)                Comedy|Romance\n",
    "7         8                 Tom and Huck (1995)          Adventure|Children's\n",
    "8         9                 Sudden Death (1995)                        Action\n",
    "9        10                    GoldenEye (1995)     Action|Adventure|Thriller"
   ]
  },
  {
   "cell_type": "code",
   "execution_count": null,
   "metadata": {},
   "outputs": [],
   "source": [
    "In [124]: dummies = movies[\"genres\"].str.get_dummies(\"|\")\n",
    "\n",
    "In [125]: dummies.iloc[:10, :6]\n",
    "Out[125]: \n",
    "   Action  Adventure  Animation  Children's  Comedy  Crime\n",
    "0       0          0          1           1       1      0\n",
    "1       0          1          0           1       0      0\n",
    "2       0          0          0           0       1      0\n",
    "3       0          0          0           0       1      0\n",
    "4       0          0          0           0       1      0\n",
    "5       1          0          0           0       0      1\n",
    "6       0          0          0           0       1      0\n",
    "7       0          1          0           1       0      0\n",
    "8       1          0          0           0       0      0\n",
    "9       1          1          0           0       0      0"
   ]
  },
  {
   "cell_type": "code",
   "execution_count": null,
   "metadata": {},
   "outputs": [],
   "source": [
    "In [126]: movies_windic = movies.join(dummies.add_prefix(\"Genre_\"))\n",
    "\n",
    "In [127]: movies_windic.iloc[0]\n",
    "Out[127]: \n",
    "movie_id                                       1\n",
    "title                           Toy Story (1995)\n",
    "genres               Animation|Children's|Comedy\n",
    "Genre_Action                                   0\n",
    "Genre_Adventure                                0\n",
    "Genre_Animation                                1\n",
    "Genre_Children's                               1\n",
    "Genre_Comedy                                   1\n",
    "Genre_Crime                                    0\n",
    "Genre_Documentary                              0\n",
    "Genre_Drama                                    0\n",
    "Genre_Fantasy                                  0\n",
    "Genre_Film-Noir                                0\n",
    "Genre_Horror                                   0\n",
    "Genre_Musical                                  0\n",
    "Genre_Mystery                                  0\n",
    "Genre_Romance                                  0\n",
    "Genre_Sci-Fi                                   0\n",
    "Genre_Thriller                                 0\n",
    "Genre_War                                      0\n",
    "Genre_Western                                  0\n",
    "Name: 0, dtype: object"
   ]
  },
  {
   "cell_type": "code",
   "execution_count": null,
   "metadata": {},
   "outputs": [],
   "source": [
    "In [128]: np.random.seed(12345) # to make the example repeatable\n",
    "\n",
    "In [129]: values = np.random.uniform(size=10)\n",
    "\n",
    "In [130]: values\n",
    "Out[130]: \n",
    "array([0.9296, 0.3164, 0.1839, 0.2046, 0.5677, 0.5955, 0.9645, 0.6532,\n",
    "       0.7489, 0.6536])\n",
    "\n",
    "In [131]: bins = [0, 0.2, 0.4, 0.6, 0.8, 1]\n",
    "\n",
    "In [132]: pd.get_dummies(pd.cut(values, bins))\n",
    "Out[132]: \n",
    "   (0.0, 0.2]  (0.2, 0.4]  (0.4, 0.6]  (0.6, 0.8]  (0.8, 1.0]\n",
    "0           0           0           0           0           1\n",
    "1           0           1           0           0           0\n",
    "2           1           0           0           0           0\n",
    "3           0           1           0           0           0\n",
    "4           0           0           1           0           0\n",
    "5           0           0           1           0           0\n",
    "6           0           0           0           0           1\n",
    "7           0           0           0           1           0\n",
    "8           0           0           0           1           0\n",
    "9           0           0           0           1           0"
   ]
  },
  {
   "cell_type": "markdown",
   "metadata": {},
   "source": [
    "# Extension Data Types"
   ]
  },
  {
   "cell_type": "code",
   "execution_count": null,
   "metadata": {},
   "outputs": [],
   "source": [
    "In [133]: s = pd.Series([1, 2, 3, None])\n",
    "\n",
    "In [134]: s\n",
    "Out[134]: \n",
    "0    1.0\n",
    "1    2.0\n",
    "2    3.0\n",
    "3    NaN\n",
    "dtype: float64\n",
    "\n",
    "In [135]: s.dtype\n",
    "Out[135]: dtype('float64')"
   ]
  },
  {
   "cell_type": "code",
   "execution_count": null,
   "metadata": {},
   "outputs": [],
   "source": [
    "In [136]: s = pd.Series([1, 2, 3, None], dtype=pd.Int64Dtype())\n",
    "\n",
    "In [137]: s\n",
    "Out[137]: \n",
    "0       1\n",
    "1       2\n",
    "2       3\n",
    "3    <NA>\n",
    "dtype: Int64\n",
    "\n",
    "In [138]: s.isna()\n",
    "Out[138]: \n",
    "0    False\n",
    "1    False\n",
    "2    False\n",
    "3     True\n",
    "dtype: bool\n",
    "\n",
    "In [139]: s.dtype\n",
    "Out[139]: Int64Dtype()"
   ]
  },
  {
   "cell_type": "code",
   "execution_count": null,
   "metadata": {},
   "outputs": [],
   "source": [
    "In [140]: s[3]\n",
    "Out[140]: <NA>\n",
    "\n",
    "In [141]: s[3] is pd.NA\n",
    "Out[141]: True"
   ]
  },
  {
   "cell_type": "code",
   "execution_count": null,
   "metadata": {},
   "outputs": [],
   "source": [
    "In [142]: s = pd.Series([1, 2, 3, None], dtype=\"Int64\")"
   ]
  },
  {
   "cell_type": "code",
   "execution_count": null,
   "metadata": {},
   "outputs": [],
   "source": [
    "In [143]: s = pd.Series(['one', 'two', None, 'three'], dtype=pd.StringDtype())\n",
    "\n",
    "In [144]: s\n",
    "Out[144]: \n",
    "0      one\n",
    "1      two\n",
    "2     <NA>\n",
    "3    three\n",
    "dtype: string"
   ]
  },
  {
   "cell_type": "code",
   "execution_count": null,
   "metadata": {},
   "outputs": [],
   "source": [
    "In [145]: df = pd.DataFrame({\"A\": [1, 2, None, 4],\n",
    "   .....:                    \"B\": [\"one\", \"two\", \"three\", None],\n",
    "   .....:                    \"C\": [False, None, False, True]})\n",
    "\n",
    "In [146]: df\n",
    "Out[146]: \n",
    "     A      B      C\n",
    "0  1.0    one  False\n",
    "1  2.0    two   None\n",
    "2  NaN  three  False\n",
    "3  4.0   None   True\n",
    "\n",
    "In [147]: df[\"A\"] = df[\"A\"].astype(\"Int64\")\n",
    "\n",
    "In [148]: df[\"B\"] = df[\"B\"].astype(\"string\")\n",
    "\n",
    "In [149]: df[\"C\"] = df[\"C\"].astype(\"boolean\")\n",
    "\n",
    "In [150]: df\n",
    "Out[150]: \n",
    "      A      B      C\n",
    "0     1    one  False\n",
    "1     2    two   <NA>\n",
    "2  <NA>  three  False\n",
    "3     4   <NA>   True"
   ]
  },
  {
   "cell_type": "markdown",
   "metadata": {},
   "source": [
    "# String Manipulation"
   ]
  },
  {
   "cell_type": "markdown",
   "metadata": {},
   "source": [
    "## Python Built-In String Object Methods"
   ]
  },
  {
   "cell_type": "code",
   "execution_count": null,
   "metadata": {},
   "outputs": [],
   "source": [
    "In [151]: val = \"a,b,  guido\"\n",
    "\n",
    "In [152]: val.split(\",\")\n",
    "Out[152]: ['a', 'b', '  guido']"
   ]
  },
  {
   "cell_type": "code",
   "execution_count": null,
   "metadata": {},
   "outputs": [],
   "source": [
    "In [153]: pieces = [x.strip() for x in val.split(\",\")]\n",
    "\n",
    "In [154]: pieces\n",
    "Out[154]: ['a', 'b', 'guido']"
   ]
  },
  {
   "cell_type": "code",
   "execution_count": null,
   "metadata": {},
   "outputs": [],
   "source": [
    "In [155]: first, second, third = pieces\n",
    "\n",
    "In [156]: first + \"::\" + second + \"::\" + third\n",
    "Out[156]: 'a::b::guido'"
   ]
  },
  {
   "cell_type": "code",
   "execution_count": null,
   "metadata": {},
   "outputs": [],
   "source": [
    "In [157]: \"::\".join(pieces)\n",
    "Out[157]: 'a::b::guido'"
   ]
  },
  {
   "cell_type": "code",
   "execution_count": null,
   "metadata": {},
   "outputs": [],
   "source": [
    "In [158]: \"guido\" in val\n",
    "Out[158]: True\n",
    "\n",
    "In [159]: val.index(\",\")\n",
    "Out[159]: 1\n",
    "\n",
    "In [160]: val.find(\":\")\n",
    "Out[160]: -1"
   ]
  },
  {
   "cell_type": "code",
   "execution_count": null,
   "metadata": {},
   "outputs": [],
   "source": [
    "In [161]: val.index(\":\")\n",
    "---------------------------------------------------------------------------\n",
    "ValueError                                Traceback (most recent call last)\n",
    "<ipython-input-161-bea4c4c30248> in <module>\n",
    "----> 1 val.index(\":\")\n",
    "ValueError: substring not found"
   ]
  },
  {
   "cell_type": "code",
   "execution_count": null,
   "metadata": {},
   "outputs": [],
   "source": [
    "In [162]: val.count(\",\")\n",
    "Out[162]: 2"
   ]
  },
  {
   "cell_type": "code",
   "execution_count": null,
   "metadata": {},
   "outputs": [],
   "source": [
    "In [163]: val.replace(\",\", \"::\")\n",
    "Out[163]: 'a::b::  guido'\n",
    "\n",
    "In [164]: val.replace(\",\", \"\")\n",
    "Out[164]: 'ab  guido'"
   ]
  },
  {
   "cell_type": "markdown",
   "metadata": {},
   "source": [
    "## Regular Expressions"
   ]
  },
  {
   "cell_type": "code",
   "execution_count": null,
   "metadata": {},
   "outputs": [],
   "source": [
    "In [165]: import re\n",
    "\n",
    "In [166]: text = \"foo    bar\\t baz  \\tqux\"\n",
    "\n",
    "In [167]: re.split(r\"\\s+\", text)\n",
    "Out[167]: ['foo', 'bar', 'baz', 'qux']"
   ]
  },
  {
   "cell_type": "code",
   "execution_count": null,
   "metadata": {},
   "outputs": [],
   "source": [
    "In [168]: regex = re.compile(r\"\\s+\")\n",
    "\n",
    "In [169]: regex.split(text)\n",
    "Out[169]: ['foo', 'bar', 'baz', 'qux']"
   ]
  },
  {
   "cell_type": "code",
   "execution_count": null,
   "metadata": {},
   "outputs": [],
   "source": [
    "In [170]: regex.findall(text)\n",
    "Out[170]: ['    ', '\\t ', '  \\t']"
   ]
  },
  {
   "cell_type": "code",
   "execution_count": null,
   "metadata": {},
   "outputs": [],
   "source": [
    "text = \"\"\"Dave dave@google.com\n",
    "Steve steve@gmail.com\n",
    "Rob rob@gmail.com\n",
    "Ryan ryan@yahoo.com\"\"\"\n",
    "pattern = r\"[A-Z0-9._%+-]+@[A-Z0-9.-]+\\.[A-Z]{2,4}\"\n",
    "\n",
    "# re.IGNORECASE makes the regex case insensitive\n",
    "regex = re.compile(pattern, flags=re.IGNORECASE)"
   ]
  },
  {
   "cell_type": "code",
   "execution_count": null,
   "metadata": {},
   "outputs": [],
   "source": [
    "In [172]: regex.findall(text)\n",
    "Out[172]: \n",
    "['dave@google.com',\n",
    " 'steve@gmail.com',\n",
    " 'rob@gmail.com',\n",
    " 'ryan@yahoo.com']"
   ]
  },
  {
   "cell_type": "code",
   "execution_count": null,
   "metadata": {},
   "outputs": [],
   "source": [
    "In [173]: m = regex.search(text)\n",
    "\n",
    "In [174]: m\n",
    "Out[174]: <re.Match object; span=(5, 20), match='dave@google.com'>\n",
    "\n",
    "In [175]: text[m.start():m.end()]\n",
    "Out[175]: 'dave@google.com'"
   ]
  },
  {
   "cell_type": "code",
   "execution_count": null,
   "metadata": {},
   "outputs": [],
   "source": [
    "In [176]: print(regex.match(text))\n",
    "None"
   ]
  },
  {
   "cell_type": "code",
   "execution_count": null,
   "metadata": {},
   "outputs": [],
   "source": [
    "In [177]: print(regex.sub(\"REDACTED\", text))\n",
    "Dave REDACTED\n",
    "Steve REDACTED\n",
    "Rob REDACTED\n",
    "Ryan REDACTED"
   ]
  },
  {
   "cell_type": "code",
   "execution_count": null,
   "metadata": {},
   "outputs": [],
   "source": [
    "In [178]: pattern = r\"([A-Z0-9._%+-]+)@([A-Z0-9.-]+)\\.([A-Z]{2,4})\"\n",
    "\n",
    "In [179]: regex = re.compile(pattern, flags=re.IGNORECASE)"
   ]
  },
  {
   "cell_type": "code",
   "execution_count": null,
   "metadata": {},
   "outputs": [],
   "source": [
    "In [180]: m = regex.match(\"wesm@bright.net\")\n",
    "\n",
    "In [181]: m.groups()\n",
    "Out[181]: ('wesm', 'bright', 'net')"
   ]
  },
  {
   "cell_type": "code",
   "execution_count": null,
   "metadata": {},
   "outputs": [],
   "source": [
    "In [182]: regex.findall(text)\n",
    "Out[182]: \n",
    "[('dave', 'google', 'com'),\n",
    " ('steve', 'gmail', 'com'),\n",
    " ('rob', 'gmail', 'com'),\n",
    " ('ryan', 'yahoo', 'com')]"
   ]
  },
  {
   "cell_type": "code",
   "execution_count": null,
   "metadata": {},
   "outputs": [],
   "source": [
    "In [183]: print(regex.sub(r\"Username: \\1, Domain: \\2, Suffix: \\3\", text))\n",
    "Dave Username: dave, Domain: google, Suffix: com\n",
    "Steve Username: steve, Domain: gmail, Suffix: com\n",
    "Rob Username: rob, Domain: gmail, Suffix: com\n",
    "Ryan Username: ryan, Domain: yahoo, Suffix: com"
   ]
  },
  {
   "cell_type": "markdown",
   "metadata": {},
   "source": [
    "## String Functions in pandas"
   ]
  },
  {
   "cell_type": "code",
   "execution_count": null,
   "metadata": {},
   "outputs": [],
   "source": [
    "In [184]: data = {\"Dave\": \"dave@google.com\", \"Steve\": \"steve@gmail.com\",\n",
    "   .....:         \"Rob\": \"rob@gmail.com\", \"Wes\": np.nan}\n",
    "\n",
    "In [185]: data = pd.Series(data)\n",
    "\n",
    "In [186]: data\n",
    "Out[186]: \n",
    "Dave     dave@google.com\n",
    "Steve    steve@gmail.com\n",
    "Rob        rob@gmail.com\n",
    "Wes                  NaN\n",
    "dtype: object\n",
    "\n",
    "In [187]: data.isna()\n",
    "Out[187]: \n",
    "Dave     False\n",
    "Steve    False\n",
    "Rob      False\n",
    "Wes       True\n",
    "dtype: bool"
   ]
  },
  {
   "cell_type": "code",
   "execution_count": null,
   "metadata": {},
   "outputs": [],
   "source": [
    "In [188]: data.str.contains(\"gmail\")\n",
    "Out[188]: \n",
    "Dave     False\n",
    "Steve     True\n",
    "Rob       True\n",
    "Wes        NaN\n",
    "dtype: object"
   ]
  },
  {
   "cell_type": "code",
   "execution_count": null,
   "metadata": {},
   "outputs": [],
   "source": [
    "In [189]: data_as_string_ext = data.astype('string')\n",
    "\n",
    "In [190]: data_as_string_ext\n",
    "Out[190]: \n",
    "Dave     dave@google.com\n",
    "Steve    steve@gmail.com\n",
    "Rob        rob@gmail.com\n",
    "Wes                 <NA>\n",
    "dtype: string\n",
    "\n",
    "In [191]: data_as_string_ext.str.contains(\"gmail\")\n",
    "Out[191]: \n",
    "Dave     False\n",
    "Steve     True\n",
    "Rob       True\n",
    "Wes       <NA>\n",
    "dtype: boolean"
   ]
  },
  {
   "cell_type": "code",
   "execution_count": null,
   "metadata": {},
   "outputs": [],
   "source": [
    "In [192]: pattern = r\"([A-Z0-9._%+-]+)@([A-Z0-9.-]+)\\.([A-Z]{2,4})\"\n",
    "\n",
    "In [193]: data.str.findall(pattern, flags=re.IGNORECASE)\n",
    "Out[193]: \n",
    "Dave     [(dave, google, com)]\n",
    "Steve    [(steve, gmail, com)]\n",
    "Rob        [(rob, gmail, com)]\n",
    "Wes                        NaN\n",
    "dtype: object"
   ]
  },
  {
   "cell_type": "code",
   "execution_count": null,
   "metadata": {},
   "outputs": [],
   "source": [
    "In [194]: matches = data.str.findall(pattern, flags=re.IGNORECASE).str[0]\n",
    "\n",
    "In [195]: matches\n",
    "Out[195]: \n",
    "Dave     (dave, google, com)\n",
    "Steve    (steve, gmail, com)\n",
    "Rob        (rob, gmail, com)\n",
    "Wes                      NaN\n",
    "dtype: object\n",
    "\n",
    "In [196]: matches.str.get(1)\n",
    "Out[196]: \n",
    "Dave     google\n",
    "Steve     gmail\n",
    "Rob       gmail\n",
    "Wes         NaN\n",
    "dtype: object"
   ]
  },
  {
   "cell_type": "code",
   "execution_count": null,
   "metadata": {},
   "outputs": [],
   "source": [
    "In [197]: data.str[:5]\n",
    "Out[197]: \n",
    "Dave     dave@\n",
    "Steve    steve\n",
    "Rob      rob@g\n",
    "Wes        NaN\n",
    "dtype: object"
   ]
  },
  {
   "cell_type": "code",
   "execution_count": null,
   "metadata": {},
   "outputs": [],
   "source": [
    "In [198]: data.str.extract(pattern, flags=re.IGNORECASE)\n",
    "Out[198]: \n",
    "           0       1    2\n",
    "Dave    dave  google  com\n",
    "Steve  steve   gmail  com\n",
    "Rob      rob   gmail  com\n",
    "Wes      NaN     NaN  NaN"
   ]
  },
  {
   "cell_type": "markdown",
   "metadata": {},
   "source": [
    "# Categorical Data"
   ]
  },
  {
   "cell_type": "markdown",
   "metadata": {},
   "source": [
    "## Background and Motivation"
   ]
  },
  {
   "cell_type": "code",
   "execution_count": null,
   "metadata": {},
   "outputs": [],
   "source": [
    "In [199]: values = pd.Series(['apple', 'orange', 'apple',\n",
    "   .....:                     'apple'] * 2)\n",
    "\n",
    "In [200]: values\n",
    "Out[200]: \n",
    "0     apple\n",
    "1    orange\n",
    "2     apple\n",
    "3     apple\n",
    "4     apple\n",
    "5    orange\n",
    "6     apple\n",
    "7     apple\n",
    "dtype: object\n",
    "\n",
    "In [201]: pd.unique(values)\n",
    "Out[201]: array(['apple', 'orange'], dtype=object)\n",
    "\n",
    "In [202]: pd.value_counts(values)\n",
    "Out[202]: \n",
    "apple     6\n",
    "orange    2\n",
    "dtype: int64"
   ]
  },
  {
   "cell_type": "code",
   "execution_count": null,
   "metadata": {},
   "outputs": [],
   "source": [
    "In [203]: values = pd.Series([0, 1, 0, 0] * 2)\n",
    "\n",
    "In [204]: dim = pd.Series(['apple', 'orange'])\n",
    "\n",
    "In [205]: values\n",
    "Out[205]: \n",
    "0    0\n",
    "1    1\n",
    "2    0\n",
    "3    0\n",
    "4    0\n",
    "5    1\n",
    "6    0\n",
    "7    0\n",
    "dtype: int64\n",
    "\n",
    "In [206]: dim\n",
    "Out[206]: \n",
    "0     apple\n",
    "1    orange\n",
    "dtype: object"
   ]
  },
  {
   "cell_type": "code",
   "execution_count": null,
   "metadata": {},
   "outputs": [],
   "source": [
    "In [207]: dim.take(values)\n",
    "Out[207]: \n",
    "0     apple\n",
    "1    orange\n",
    "0     apple\n",
    "0     apple\n",
    "0     apple\n",
    "1    orange\n",
    "0     apple\n",
    "0     apple\n",
    "dtype: object"
   ]
  },
  {
   "cell_type": "markdown",
   "metadata": {},
   "source": [
    "## Categorical Extension Type in pandas"
   ]
  },
  {
   "cell_type": "code",
   "execution_count": null,
   "metadata": {},
   "outputs": [],
   "source": [
    "In [208]: fruits = ['apple', 'orange', 'apple', 'apple'] * 2\n",
    "\n",
    "In [209]: N = len(fruits)\n",
    "\n",
    "In [210]: rng = np.random.default_rng(seed=12345)\n",
    "\n",
    "In [211]: df = pd.DataFrame({'fruit': fruits,\n",
    "   .....:                    'basket_id': np.arange(N),\n",
    "   .....:                    'count': rng.integers(3, 15, size=N),\n",
    "   .....:                    'weight': rng.uniform(0, 4, size=N)},\n",
    "   .....:                   columns=['basket_id', 'fruit', 'count', 'weight'])\n",
    "\n",
    "In [212]: df\n",
    "Out[212]: \n",
    "   basket_id   fruit  count    weight\n",
    "0          0   apple     11  1.564438\n",
    "1          1  orange      5  1.331256\n",
    "2          2   apple     12  2.393235\n",
    "3          3   apple      6  0.746937\n",
    "4          4   apple      5  2.691024\n",
    "5          5  orange     12  3.767211\n",
    "6          6   apple     10  0.992983\n",
    "7          7   apple     11  3.795525"
   ]
  },
  {
   "cell_type": "code",
   "execution_count": null,
   "metadata": {},
   "outputs": [],
   "source": [
    "In [213]: fruit_cat = df['fruit'].astype('category')\n",
    "\n",
    "In [214]: fruit_cat\n",
    "Out[214]: \n",
    "0     apple\n",
    "1    orange\n",
    "2     apple\n",
    "3     apple\n",
    "4     apple\n",
    "5    orange\n",
    "6     apple\n",
    "7     apple\n",
    "Name: fruit, dtype: category\n",
    "Categories (2, object): ['apple', 'orange']"
   ]
  },
  {
   "cell_type": "code",
   "execution_count": null,
   "metadata": {},
   "outputs": [],
   "source": [
    "In [215]: c = fruit_cat.array\n",
    "\n",
    "In [216]: type(c)\n",
    "Out[216]: pandas.core.arrays.categorical.Categorical"
   ]
  },
  {
   "cell_type": "code",
   "execution_count": null,
   "metadata": {},
   "outputs": [],
   "source": [
    "In [217]: c.categories\n",
    "Out[217]: Index(['apple', 'orange'], dtype='object')\n",
    "\n",
    "In [218]: c.codes\n",
    "Out[218]: array([0, 1, 0, 0, 0, 1, 0, 0], dtype=int8)"
   ]
  },
  {
   "cell_type": "code",
   "execution_count": null,
   "metadata": {},
   "outputs": [],
   "source": [
    "In [219]: dict(enumerate(c.categories))\n",
    "Out[219]: {0: 'apple', 1: 'orange'}"
   ]
  },
  {
   "cell_type": "code",
   "execution_count": null,
   "metadata": {},
   "outputs": [],
   "source": [
    "In [220]: df['fruit'] = df['fruit'].astype('category')\n",
    "\n",
    "In [221]: df[\"fruit\"]\n",
    "Out[221]: \n",
    "0     apple\n",
    "1    orange\n",
    "2     apple\n",
    "3     apple\n",
    "4     apple\n",
    "5    orange\n",
    "6     apple\n",
    "7     apple\n",
    "Name: fruit, dtype: category\n",
    "Categories (2, object): ['apple', 'orange']"
   ]
  },
  {
   "cell_type": "code",
   "execution_count": null,
   "metadata": {},
   "outputs": [],
   "source": [
    "In [222]: my_categories = pd.Categorical(['foo', 'bar', 'baz', 'foo', 'bar'])\n",
    "\n",
    "In [223]: my_categories\n",
    "Out[223]: \n",
    "['foo', 'bar', 'baz', 'foo', 'bar']\n",
    "Categories (3, object): ['bar', 'baz', 'foo']"
   ]
  },
  {
   "cell_type": "code",
   "execution_count": null,
   "metadata": {},
   "outputs": [],
   "source": [
    "In [224]: categories = ['foo', 'bar', 'baz']\n",
    "\n",
    "In [225]: codes = [0, 1, 2, 0, 0, 1]\n",
    "\n",
    "In [226]: my_cats_2 = pd.Categorical.from_codes(codes, categories)\n",
    "\n",
    "In [227]: my_cats_2\n",
    "Out[227]: \n",
    "['foo', 'bar', 'baz', 'foo', 'foo', 'bar']\n",
    "Categories (3, object): ['foo', 'bar', 'baz']"
   ]
  },
  {
   "cell_type": "code",
   "execution_count": null,
   "metadata": {},
   "outputs": [],
   "source": [
    "In [228]: ordered_cat = pd.Categorical.from_codes(codes, categories,\n",
    "   .....:                                         ordered=True)\n",
    "\n",
    "In [229]: ordered_cat\n",
    "Out[229]: \n",
    "['foo', 'bar', 'baz', 'foo', 'foo', 'bar']\n",
    "Categories (3, object): ['foo' < 'bar' < 'baz']"
   ]
  },
  {
   "cell_type": "code",
   "execution_count": null,
   "metadata": {},
   "outputs": [],
   "source": [
    "In [230]: my_cats_2.as_ordered()\n",
    "Out[230]: \n",
    "['foo', 'bar', 'baz', 'foo', 'foo', 'bar']\n",
    "Categories (3, object): ['foo' < 'bar' < 'baz']"
   ]
  },
  {
   "cell_type": "markdown",
   "metadata": {},
   "source": [
    "## Computations with Categoricals"
   ]
  },
  {
   "cell_type": "code",
   "execution_count": null,
   "metadata": {},
   "outputs": [],
   "source": [
    "In [231]: rng = np.random.default_rng(seed=12345)\n",
    "\n",
    "In [232]: draws = rng.standard_normal(1000)\n",
    "\n",
    "In [233]: draws[:5]\n",
    "Out[233]: array([-1.4238,  1.2637, -0.8707, -0.2592, -0.0753])"
   ]
  },
  {
   "cell_type": "code",
   "execution_count": null,
   "metadata": {},
   "outputs": [],
   "source": [
    "In [234]: bins = pd.qcut(draws, 4)\n",
    "\n",
    "In [235]: bins\n",
    "Out[235]: \n",
    "[(-3.121, -0.675], (0.687, 3.211], (-3.121, -0.675], (-0.675, 0.0134], (-0.675, 0\n",
    ".0134], ..., (0.0134, 0.687], (0.0134, 0.687], (-0.675, 0.0134], (0.0134, 0.687],\n",
    " (-0.675, 0.0134]]\n",
    "Length: 1000\n",
    "Categories (4, interval[float64, right]): [(-3.121, -0.675] < (-0.675, 0.0134] < \n",
    "(0.0134, 0.687] <\n",
    "                                           (0.687, 3.211]]"
   ]
  },
  {
   "cell_type": "code",
   "execution_count": null,
   "metadata": {},
   "outputs": [],
   "source": [
    "In [236]: bins = pd.qcut(draws, 4, labels=['Q1', 'Q2', 'Q3', 'Q4'])\n",
    "\n",
    "In [237]: bins\n",
    "Out[237]: \n",
    "['Q1', 'Q4', 'Q1', 'Q2', 'Q2', ..., 'Q3', 'Q3', 'Q2', 'Q3', 'Q2']\n",
    "Length: 1000\n",
    "Categories (4, object): ['Q1' < 'Q2' < 'Q3' < 'Q4']\n",
    "\n",
    "In [238]: bins.codes[:10]\n",
    "Out[238]: array([0, 3, 0, 1, 1, 0, 0, 2, 2, 0], dtype=int8)"
   ]
  },
  {
   "cell_type": "code",
   "execution_count": null,
   "metadata": {},
   "outputs": [],
   "source": [
    "In [239]: bins = pd.Series(bins, name='quartile')\n",
    "\n",
    "In [240]: results = (pd.Series(draws)\n",
    "   .....:            .groupby(bins)\n",
    "   .....:            .agg(['count', 'min', 'max'])\n",
    "   .....:            .reset_index())\n",
    "\n",
    "In [241]: results\n",
    "Out[241]: \n",
    "  quartile  count       min       max\n",
    "0       Q1    250 -3.119609 -0.678494\n",
    "1       Q2    250 -0.673305  0.008009\n",
    "2       Q3    250  0.018753  0.686183\n",
    "3       Q4    250  0.688282  3.211418"
   ]
  },
  {
   "cell_type": "code",
   "execution_count": null,
   "metadata": {},
   "outputs": [],
   "source": [
    "In [242]: results['quartile']\n",
    "Out[242]: \n",
    "0    Q1\n",
    "1    Q2\n",
    "2    Q3\n",
    "3    Q4\n",
    "Name: quartile, dtype: category\n",
    "Categories (4, object): ['Q1' < 'Q2' < 'Q3' < 'Q4']"
   ]
  },
  {
   "cell_type": "code",
   "execution_count": null,
   "metadata": {},
   "outputs": [],
   "source": [
    "In [243]: N = 10_000_000\n",
    "\n",
    "In [244]: labels = pd.Series(['foo', 'bar', 'baz', 'qux'] * (N // 4))"
   ]
  },
  {
   "cell_type": "code",
   "execution_count": null,
   "metadata": {},
   "outputs": [],
   "source": [
    "In [245]: categories = labels.astype('category')"
   ]
  },
  {
   "cell_type": "code",
   "execution_count": null,
   "metadata": {},
   "outputs": [],
   "source": [
    "In [246]: labels.memory_usage(deep=True)\n",
    "Out[246]: 600000128\n",
    "\n",
    "In [247]: categories.memory_usage(deep=True)\n",
    "Out[247]: 10000540"
   ]
  },
  {
   "cell_type": "code",
   "execution_count": null,
   "metadata": {},
   "outputs": [],
   "source": [
    "In [248]: %time _ = labels.astype('category')\n",
    "CPU times: user 469 ms, sys: 106 ms, total: 574 ms\n",
    "Wall time: 577 ms"
   ]
  },
  {
   "cell_type": "code",
   "execution_count": null,
   "metadata": {},
   "outputs": [],
   "source": [
    "In [249]: %timeit labels.value_counts()\n",
    "840 ms +- 10.9 ms per loop (mean +- std. dev. of 7 runs, 1 loop each)\n",
    "\n",
    "In [250]: %timeit categories.value_counts()\n",
    "30.1 ms +- 549 us per loop (mean +- std. dev. of 7 runs, 10 loops each)"
   ]
  },
  {
   "cell_type": "markdown",
   "metadata": {},
   "source": [
    "## Categorical Methods"
   ]
  },
  {
   "cell_type": "code",
   "execution_count": null,
   "metadata": {},
   "outputs": [],
   "source": [
    "In [251]: s = pd.Series(['a', 'b', 'c', 'd'] * 2)\n",
    "\n",
    "In [252]: cat_s = s.astype('category')\n",
    "\n",
    "In [253]: cat_s\n",
    "Out[253]: \n",
    "0    a\n",
    "1    b\n",
    "2    c\n",
    "3    d\n",
    "4    a\n",
    "5    b\n",
    "6    c\n",
    "7    d\n",
    "dtype: category\n",
    "Categories (4, object): ['a', 'b', 'c', 'd']"
   ]
  },
  {
   "cell_type": "code",
   "execution_count": null,
   "metadata": {},
   "outputs": [],
   "source": [
    "In [254]: cat_s.cat.codes\n",
    "Out[254]: \n",
    "0    0\n",
    "1    1\n",
    "2    2\n",
    "3    3\n",
    "4    0\n",
    "5    1\n",
    "6    2\n",
    "7    3\n",
    "dtype: int8\n",
    "\n",
    "In [255]: cat_s.cat.categories\n",
    "Out[255]: Index(['a', 'b', 'c', 'd'], dtype='object')"
   ]
  },
  {
   "cell_type": "code",
   "execution_count": null,
   "metadata": {},
   "outputs": [],
   "source": [
    "In [256]: actual_categories = ['a', 'b', 'c', 'd', 'e']\n",
    "\n",
    "In [257]: cat_s2 = cat_s.cat.set_categories(actual_categories)\n",
    "\n",
    "In [258]: cat_s2\n",
    "Out[258]: \n",
    "0    a\n",
    "1    b\n",
    "2    c\n",
    "3    d\n",
    "4    a\n",
    "5    b\n",
    "6    c\n",
    "7    d\n",
    "dtype: category\n",
    "Categories (5, object): ['a', 'b', 'c', 'd', 'e']"
   ]
  },
  {
   "cell_type": "code",
   "execution_count": null,
   "metadata": {},
   "outputs": [],
   "source": [
    "In [259]: cat_s.value_counts()\n",
    "Out[259]: \n",
    "a    2\n",
    "b    2\n",
    "c    2\n",
    "d    2\n",
    "dtype: int64\n",
    "\n",
    "In [260]: cat_s2.value_counts()\n",
    "Out[260]: \n",
    "a    2\n",
    "b    2\n",
    "c    2\n",
    "d    2\n",
    "e    0\n",
    "dtype: int64"
   ]
  },
  {
   "cell_type": "code",
   "execution_count": null,
   "metadata": {},
   "outputs": [],
   "source": [
    "In [261]: cat_s3 = cat_s[cat_s.isin(['a', 'b'])]\n",
    "\n",
    "In [262]: cat_s3\n",
    "Out[262]: \n",
    "0    a\n",
    "1    b\n",
    "4    a\n",
    "5    b\n",
    "dtype: category\n",
    "Categories (4, object): ['a', 'b', 'c', 'd']\n",
    "\n",
    "In [263]: cat_s3.cat.remove_unused_categories()\n",
    "Out[263]: \n",
    "0    a\n",
    "1    b\n",
    "4    a\n",
    "5    b\n",
    "dtype: category\n",
    "Categories (2, object): ['a', 'b']"
   ]
  },
  {
   "cell_type": "code",
   "execution_count": null,
   "metadata": {},
   "outputs": [],
   "source": [
    "In [264]: cat_s = pd.Series(['a', 'b', 'c', 'd'] * 2, dtype='category')"
   ]
  },
  {
   "cell_type": "code",
   "execution_count": null,
   "metadata": {},
   "outputs": [],
   "source": [
    "In [265]: pd.get_dummies(cat_s)\n",
    "Out[265]: \n",
    "   a  b  c  d\n",
    "0  1  0  0  0\n",
    "1  0  1  0  0\n",
    "2  0  0  1  0\n",
    "3  0  0  0  1\n",
    "4  1  0  0  0\n",
    "5  0  1  0  0\n",
    "6  0  0  1  0\n",
    "7  0  0  0  1"
   ]
  },
  {
   "cell_type": "code",
   "execution_count": null,
   "metadata": {},
   "outputs": [],
   "source": []
  },
  {
   "cell_type": "code",
   "execution_count": null,
   "metadata": {},
   "outputs": [],
   "source": []
  },
  {
   "cell_type": "code",
   "execution_count": null,
   "metadata": {},
   "outputs": [],
   "source": []
  },
  {
   "cell_type": "code",
   "execution_count": null,
   "metadata": {},
   "outputs": [],
   "source": []
  }
 ],
 "metadata": {
  "kernelspec": {
   "display_name": "Python 3 (ipykernel)",
   "language": "python",
   "name": "python3"
  },
  "language_info": {
   "codemirror_mode": {
    "name": "ipython",
    "version": 3
   },
   "file_extension": ".py",
   "mimetype": "text/x-python",
   "name": "python",
   "nbconvert_exporter": "python",
   "pygments_lexer": "ipython3",
   "version": "3.11.2"
  }
 },
 "nbformat": 4,
 "nbformat_minor": 4
}
